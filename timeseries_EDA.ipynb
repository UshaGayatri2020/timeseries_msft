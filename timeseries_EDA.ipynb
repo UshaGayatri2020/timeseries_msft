{
 "cells": [
  {
   "cell_type": "code",
   "execution_count": 1,
   "id": "a392bf97",
   "metadata": {},
   "outputs": [
    {
     "name": "stdout",
     "output_type": "stream",
     "text": [
      "Requirement already satisfied: pandas-datareader in c:\\programdata\\anaconda3\\lib\\site-packages (0.10.0)\n",
      "Requirement already satisfied: lxml in c:\\users\\ushag\\appdata\\roaming\\python\\python38\\site-packages (from pandas-datareader) (4.9.3)\n",
      "Requirement already satisfied: pandas>=0.23 in c:\\users\\ushag\\appdata\\roaming\\python\\python38\\site-packages (from pandas-datareader) (2.0.3)\n",
      "Requirement already satisfied: requests>=2.19.0 in c:\\users\\ushag\\appdata\\roaming\\python\\python38\\site-packages (from pandas-datareader) (2.31.0)\n",
      "Requirement already satisfied: python-dateutil>=2.8.2 in c:\\users\\ushag\\appdata\\roaming\\python\\python38\\site-packages (from pandas>=0.23->pandas-datareader) (2.8.2)\n",
      "Requirement already satisfied: pytz>=2020.1 in c:\\users\\ushag\\appdata\\roaming\\python\\python38\\site-packages (from pandas>=0.23->pandas-datareader) (2023.3.post1)\n",
      "Requirement already satisfied: tzdata>=2022.1 in c:\\users\\ushag\\appdata\\roaming\\python\\python38\\site-packages (from pandas>=0.23->pandas-datareader) (2023.3)\n",
      "Requirement already satisfied: numpy>=1.20.3 in c:\\users\\ushag\\appdata\\roaming\\python\\python38\\site-packages (from pandas>=0.23->pandas-datareader) (1.24.4)\n",
      "Requirement already satisfied: charset-normalizer<4,>=2 in c:\\users\\ushag\\appdata\\roaming\\python\\python38\\site-packages (from requests>=2.19.0->pandas-datareader) (3.3.0)\n",
      "Requirement already satisfied: idna<4,>=2.5 in c:\\programdata\\anaconda3\\lib\\site-packages (from requests>=2.19.0->pandas-datareader) (2.10)\n",
      "Requirement already satisfied: urllib3<3,>=1.21.1 in c:\\programdata\\anaconda3\\lib\\site-packages (from requests>=2.19.0->pandas-datareader) (1.26.4)\n",
      "Requirement already satisfied: certifi>=2017.4.17 in c:\\programdata\\anaconda3\\lib\\site-packages (from requests>=2.19.0->pandas-datareader) (2023.7.22)\n",
      "Requirement already satisfied: six>=1.5 in c:\\programdata\\anaconda3\\lib\\site-packages (from python-dateutil>=2.8.2->pandas>=0.23->pandas-datareader) (1.15.0)\n"
     ]
    },
    {
     "name": "stderr",
     "output_type": "stream",
     "text": [
      "WARNING: Ignoring invalid distribution -rkupsafe (c:\\programdata\\anaconda3\\lib\\site-packages)\n",
      "WARNING: Ignoring invalid distribution - (c:\\programdata\\anaconda3\\lib\\site-packages)\n",
      "WARNING: Ignoring invalid distribution -rkupsafe (c:\\programdata\\anaconda3\\lib\\site-packages)\n",
      "WARNING: Ignoring invalid distribution -0rkupsafe (c:\\programdata\\anaconda3\\lib\\site-packages)\n",
      "WARNING: Ignoring invalid distribution -1rkupsafe (c:\\programdata\\anaconda3\\lib\\site-packages)\n",
      "WARNING: Ignoring invalid distribution -2rkupsafe (c:\\programdata\\anaconda3\\lib\\site-packages)\n",
      "WARNING: Ignoring invalid distribution -3rkupsafe (c:\\programdata\\anaconda3\\lib\\site-packages)\n",
      "WARNING: Ignoring invalid distribution -arkupsafe (c:\\programdata\\anaconda3\\lib\\site-packages)\n",
      "WARNING: Ignoring invalid distribution -cikit-learn (c:\\programdata\\anaconda3\\lib\\site-packages)\n",
      "WARNING: Ignoring invalid distribution -lick (c:\\programdata\\anaconda3\\lib\\site-packages)\n",
      "WARNING: Ignoring invalid distribution -oblib (c:\\programdata\\anaconda3\\lib\\site-packages)\n",
      "WARNING: Ignoring invalid distribution -umpy (c:\\programdata\\anaconda3\\lib\\site-packages)\n",
      "WARNING: Ignoring invalid distribution -xml (c:\\programdata\\anaconda3\\lib\\site-packages)\n",
      "WARNING: Ignoring invalid distribution -ytz (c:\\programdata\\anaconda3\\lib\\site-packages)\n",
      "WARNING: Ignoring invalid distribution -ml (c:\\programdata\\anaconda3\\lib\\site-packages)\n",
      "WARNING: Ignoring invalid distribution -rkupsafe (c:\\programdata\\anaconda3\\lib\\site-packages)\n",
      "WARNING: Ignoring invalid distribution - (c:\\programdata\\anaconda3\\lib\\site-packages)\n",
      "WARNING: Ignoring invalid distribution -rkupsafe (c:\\programdata\\anaconda3\\lib\\site-packages)\n",
      "WARNING: Ignoring invalid distribution -0rkupsafe (c:\\programdata\\anaconda3\\lib\\site-packages)\n",
      "WARNING: Ignoring invalid distribution -1rkupsafe (c:\\programdata\\anaconda3\\lib\\site-packages)\n",
      "WARNING: Ignoring invalid distribution -2rkupsafe (c:\\programdata\\anaconda3\\lib\\site-packages)\n",
      "WARNING: Ignoring invalid distribution -3rkupsafe (c:\\programdata\\anaconda3\\lib\\site-packages)\n",
      "WARNING: Ignoring invalid distribution -arkupsafe (c:\\programdata\\anaconda3\\lib\\site-packages)\n",
      "WARNING: Ignoring invalid distribution -cikit-learn (c:\\programdata\\anaconda3\\lib\\site-packages)\n",
      "WARNING: Ignoring invalid distribution -lick (c:\\programdata\\anaconda3\\lib\\site-packages)\n",
      "WARNING: Ignoring invalid distribution -oblib (c:\\programdata\\anaconda3\\lib\\site-packages)\n",
      "WARNING: Ignoring invalid distribution -umpy (c:\\programdata\\anaconda3\\lib\\site-packages)\n",
      "WARNING: Ignoring invalid distribution -xml (c:\\programdata\\anaconda3\\lib\\site-packages)\n",
      "WARNING: Ignoring invalid distribution -ytz (c:\\programdata\\anaconda3\\lib\\site-packages)\n",
      "WARNING: Ignoring invalid distribution -ml (c:\\programdata\\anaconda3\\lib\\site-packages)\n",
      "DEPRECATION: pyodbc 4.0.0-unsupported has a non-standard version number. pip 23.3 will enforce this behaviour change. A possible replacement is to upgrade to a newer version of pyodbc or contact the author to suggest that they release a version with a conforming version number. Discussion can be found at https://github.com/pypa/pip/issues/12063\n"
     ]
    }
   ],
   "source": [
    "##install pandas Data reader\n",
    "!pip install pandas-datareader"
   ]
  },
  {
   "cell_type": "code",
   "execution_count": 2,
   "id": "41c68497",
   "metadata": {},
   "outputs": [],
   "source": [
    "import pandas_datareader as pdr\n",
    "import pandas as pd\n",
    "from datetime import datetime"
   ]
  },
  {
   "cell_type": "code",
   "execution_count": 3,
   "id": "90380ff5",
   "metadata": {},
   "outputs": [
    {
     "name": "stdout",
     "output_type": "stream",
     "text": [
      "Requirement already satisfied: yfinance in c:\\users\\ushag\\appdata\\roaming\\python\\python38\\site-packages (0.2.31)\n",
      "Requirement already satisfied: pandas>=1.3.0 in c:\\users\\ushag\\appdata\\roaming\\python\\python38\\site-packages (from yfinance) (2.0.3)\n",
      "Requirement already satisfied: numpy>=1.16.5 in c:\\users\\ushag\\appdata\\roaming\\python\\python38\\site-packages (from yfinance) (1.24.4)\n",
      "Requirement already satisfied: requests>=2.31 in c:\\users\\ushag\\appdata\\roaming\\python\\python38\\site-packages (from yfinance) (2.31.0)\n",
      "Requirement already satisfied: multitasking>=0.0.7 in c:\\users\\ushag\\appdata\\roaming\\python\\python38\\site-packages (from yfinance) (0.0.11)\n",
      "Requirement already satisfied: lxml>=4.9.1 in c:\\users\\ushag\\appdata\\roaming\\python\\python38\\site-packages (from yfinance) (4.9.3)\n",
      "Requirement already satisfied: appdirs>=1.4.4 in c:\\programdata\\anaconda3\\lib\\site-packages (from yfinance) (1.4.4)\n",
      "Requirement already satisfied: pytz>=2022.5 in c:\\users\\ushag\\appdata\\roaming\\python\\python38\\site-packages (from yfinance) (2023.3.post1)\n",
      "Requirement already satisfied: frozendict>=2.3.4 in c:\\users\\ushag\\appdata\\roaming\\python\\python38\\site-packages (from yfinance) (2.3.8)\n",
      "Requirement already satisfied: peewee>=3.16.2 in c:\\users\\ushag\\appdata\\roaming\\python\\python38\\site-packages (from yfinance) (3.16.3)\n",
      "Requirement already satisfied: beautifulsoup4>=4.11.1 in c:\\users\\ushag\\appdata\\roaming\\python\\python38\\site-packages (from yfinance) (4.12.2)\n",
      "Requirement already satisfied: html5lib>=1.1 in c:\\programdata\\anaconda3\\lib\\site-packages (from yfinance) (1.1)\n",
      "Requirement already satisfied: soupsieve>1.2 in c:\\programdata\\anaconda3\\lib\\site-packages (from beautifulsoup4>=4.11.1->yfinance) (2.2.1)\n",
      "Requirement already satisfied: six>=1.9 in c:\\programdata\\anaconda3\\lib\\site-packages (from html5lib>=1.1->yfinance) (1.15.0)\n",
      "Requirement already satisfied: webencodings in c:\\programdata\\anaconda3\\lib\\site-packages (from html5lib>=1.1->yfinance) (0.5.1)\n",
      "Requirement already satisfied: python-dateutil>=2.8.2 in c:\\users\\ushag\\appdata\\roaming\\python\\python38\\site-packages (from pandas>=1.3.0->yfinance) (2.8.2)\n",
      "Requirement already satisfied: tzdata>=2022.1 in c:\\users\\ushag\\appdata\\roaming\\python\\python38\\site-packages (from pandas>=1.3.0->yfinance) (2023.3)\n",
      "Requirement already satisfied: charset-normalizer<4,>=2 in c:\\users\\ushag\\appdata\\roaming\\python\\python38\\site-packages (from requests>=2.31->yfinance) (3.3.0)\n",
      "Requirement already satisfied: idna<4,>=2.5 in c:\\programdata\\anaconda3\\lib\\site-packages (from requests>=2.31->yfinance) (2.10)\n",
      "Requirement already satisfied: urllib3<3,>=1.21.1 in c:\\programdata\\anaconda3\\lib\\site-packages (from requests>=2.31->yfinance) (1.26.4)\n",
      "Requirement already satisfied: certifi>=2017.4.17 in c:\\programdata\\anaconda3\\lib\\site-packages (from requests>=2.31->yfinance) (2023.7.22)\n"
     ]
    },
    {
     "name": "stderr",
     "output_type": "stream",
     "text": [
      "WARNING: Ignoring invalid distribution -rkupsafe (c:\\programdata\\anaconda3\\lib\\site-packages)\n",
      "WARNING: Ignoring invalid distribution - (c:\\programdata\\anaconda3\\lib\\site-packages)\n",
      "WARNING: Ignoring invalid distribution -rkupsafe (c:\\programdata\\anaconda3\\lib\\site-packages)\n",
      "WARNING: Ignoring invalid distribution -0rkupsafe (c:\\programdata\\anaconda3\\lib\\site-packages)\n",
      "WARNING: Ignoring invalid distribution -1rkupsafe (c:\\programdata\\anaconda3\\lib\\site-packages)\n",
      "WARNING: Ignoring invalid distribution -2rkupsafe (c:\\programdata\\anaconda3\\lib\\site-packages)\n",
      "WARNING: Ignoring invalid distribution -3rkupsafe (c:\\programdata\\anaconda3\\lib\\site-packages)\n",
      "WARNING: Ignoring invalid distribution -arkupsafe (c:\\programdata\\anaconda3\\lib\\site-packages)\n",
      "WARNING: Ignoring invalid distribution -cikit-learn (c:\\programdata\\anaconda3\\lib\\site-packages)\n",
      "WARNING: Ignoring invalid distribution -lick (c:\\programdata\\anaconda3\\lib\\site-packages)\n",
      "WARNING: Ignoring invalid distribution -oblib (c:\\programdata\\anaconda3\\lib\\site-packages)\n",
      "WARNING: Ignoring invalid distribution -umpy (c:\\programdata\\anaconda3\\lib\\site-packages)\n",
      "WARNING: Ignoring invalid distribution -xml (c:\\programdata\\anaconda3\\lib\\site-packages)\n",
      "WARNING: Ignoring invalid distribution -ytz (c:\\programdata\\anaconda3\\lib\\site-packages)\n",
      "WARNING: Ignoring invalid distribution -ml (c:\\programdata\\anaconda3\\lib\\site-packages)\n",
      "WARNING: Ignoring invalid distribution -rkupsafe (c:\\programdata\\anaconda3\\lib\\site-packages)\n",
      "WARNING: Ignoring invalid distribution - (c:\\programdata\\anaconda3\\lib\\site-packages)\n",
      "WARNING: Ignoring invalid distribution -rkupsafe (c:\\programdata\\anaconda3\\lib\\site-packages)\n",
      "WARNING: Ignoring invalid distribution -0rkupsafe (c:\\programdata\\anaconda3\\lib\\site-packages)\n",
      "WARNING: Ignoring invalid distribution -1rkupsafe (c:\\programdata\\anaconda3\\lib\\site-packages)\n",
      "WARNING: Ignoring invalid distribution -2rkupsafe (c:\\programdata\\anaconda3\\lib\\site-packages)\n",
      "WARNING: Ignoring invalid distribution -3rkupsafe (c:\\programdata\\anaconda3\\lib\\site-packages)\n",
      "WARNING: Ignoring invalid distribution -arkupsafe (c:\\programdata\\anaconda3\\lib\\site-packages)\n",
      "WARNING: Ignoring invalid distribution -cikit-learn (c:\\programdata\\anaconda3\\lib\\site-packages)\n",
      "WARNING: Ignoring invalid distribution -lick (c:\\programdata\\anaconda3\\lib\\site-packages)\n",
      "WARNING: Ignoring invalid distribution -oblib (c:\\programdata\\anaconda3\\lib\\site-packages)\n",
      "WARNING: Ignoring invalid distribution -umpy (c:\\programdata\\anaconda3\\lib\\site-packages)\n",
      "WARNING: Ignoring invalid distribution -xml (c:\\programdata\\anaconda3\\lib\\site-packages)\n",
      "WARNING: Ignoring invalid distribution -ytz (c:\\programdata\\anaconda3\\lib\\site-packages)\n",
      "WARNING: Ignoring invalid distribution -ml (c:\\programdata\\anaconda3\\lib\\site-packages)\n",
      "DEPRECATION: pyodbc 4.0.0-unsupported has a non-standard version number. pip 23.3 will enforce this behaviour change. A possible replacement is to upgrade to a newer version of pyodbc or contact the author to suggest that they release a version with a conforming version number. Discussion can be found at https://github.com/pypa/pip/issues/12063\n"
     ]
    },
    {
     "name": "stdout",
     "output_type": "stream",
     "text": [
      "Requirement already satisfied: yfinance in c:\\users\\ushag\\appdata\\roaming\\python\\python38\\site-packages (0.2.31)\n",
      "Requirement already satisfied: pandas>=1.3.0 in c:\\users\\ushag\\appdata\\roaming\\python\\python38\\site-packages (from yfinance) (2.0.3)\n",
      "Requirement already satisfied: numpy>=1.16.5 in c:\\users\\ushag\\appdata\\roaming\\python\\python38\\site-packages (from yfinance) (1.24.4)\n",
      "Requirement already satisfied: requests>=2.31 in c:\\users\\ushag\\appdata\\roaming\\python\\python38\\site-packages (from yfinance) (2.31.0)\n",
      "Requirement already satisfied: multitasking>=0.0.7 in c:\\users\\ushag\\appdata\\roaming\\python\\python38\\site-packages (from yfinance) (0.0.11)\n",
      "Requirement already satisfied: lxml>=4.9.1 in c:\\users\\ushag\\appdata\\roaming\\python\\python38\\site-packages (from yfinance) (4.9.3)\n",
      "Requirement already satisfied: appdirs>=1.4.4 in c:\\programdata\\anaconda3\\lib\\site-packages (from yfinance) (1.4.4)\n",
      "Requirement already satisfied: pytz>=2022.5 in c:\\users\\ushag\\appdata\\roaming\\python\\python38\\site-packages (from yfinance) (2023.3.post1)\n",
      "Requirement already satisfied: frozendict>=2.3.4 in c:\\users\\ushag\\appdata\\roaming\\python\\python38\\site-packages (from yfinance) (2.3.8)\n",
      "Requirement already satisfied: peewee>=3.16.2 in c:\\users\\ushag\\appdata\\roaming\\python\\python38\\site-packages (from yfinance) (3.16.3)\n",
      "Requirement already satisfied: beautifulsoup4>=4.11.1 in c:\\users\\ushag\\appdata\\roaming\\python\\python38\\site-packages (from yfinance) (4.12.2)\n",
      "Requirement already satisfied: html5lib>=1.1 in c:\\programdata\\anaconda3\\lib\\site-packages (from yfinance) (1.1)\n",
      "Requirement already satisfied: soupsieve>1.2 in c:\\programdata\\anaconda3\\lib\\site-packages (from beautifulsoup4>=4.11.1->yfinance) (2.2.1)\n",
      "Requirement already satisfied: six>=1.9 in c:\\programdata\\anaconda3\\lib\\site-packages (from html5lib>=1.1->yfinance) (1.15.0)\n",
      "Requirement already satisfied: webencodings in c:\\programdata\\anaconda3\\lib\\site-packages (from html5lib>=1.1->yfinance) (0.5.1)\n",
      "Requirement already satisfied: python-dateutil>=2.8.2 in c:\\users\\ushag\\appdata\\roaming\\python\\python38\\site-packages (from pandas>=1.3.0->yfinance) (2.8.2)\n",
      "Requirement already satisfied: tzdata>=2022.1 in c:\\users\\ushag\\appdata\\roaming\\python\\python38\\site-packages (from pandas>=1.3.0->yfinance) (2023.3)\n",
      "Requirement already satisfied: charset-normalizer<4,>=2 in c:\\users\\ushag\\appdata\\roaming\\python\\python38\\site-packages (from requests>=2.31->yfinance) (3.3.0)\n",
      "Requirement already satisfied: idna<4,>=2.5 in c:\\programdata\\anaconda3\\lib\\site-packages (from requests>=2.31->yfinance) (2.10)\n",
      "Requirement already satisfied: urllib3<3,>=1.21.1 in c:\\programdata\\anaconda3\\lib\\site-packages (from requests>=2.31->yfinance) (1.26.4)\n",
      "Requirement already satisfied: certifi>=2017.4.17 in c:\\programdata\\anaconda3\\lib\\site-packages (from requests>=2.31->yfinance) (2023.7.22)\n"
     ]
    },
    {
     "name": "stderr",
     "output_type": "stream",
     "text": [
      "WARNING: Ignoring invalid distribution -rkupsafe (c:\\programdata\\anaconda3\\lib\\site-packages)\n",
      "WARNING: Ignoring invalid distribution - (c:\\programdata\\anaconda3\\lib\\site-packages)\n",
      "WARNING: Ignoring invalid distribution -rkupsafe (c:\\programdata\\anaconda3\\lib\\site-packages)\n",
      "WARNING: Ignoring invalid distribution -0rkupsafe (c:\\programdata\\anaconda3\\lib\\site-packages)\n",
      "WARNING: Ignoring invalid distribution -1rkupsafe (c:\\programdata\\anaconda3\\lib\\site-packages)\n",
      "WARNING: Ignoring invalid distribution -2rkupsafe (c:\\programdata\\anaconda3\\lib\\site-packages)\n",
      "WARNING: Ignoring invalid distribution -3rkupsafe (c:\\programdata\\anaconda3\\lib\\site-packages)\n",
      "WARNING: Ignoring invalid distribution -arkupsafe (c:\\programdata\\anaconda3\\lib\\site-packages)\n",
      "WARNING: Ignoring invalid distribution -cikit-learn (c:\\programdata\\anaconda3\\lib\\site-packages)\n",
      "WARNING: Ignoring invalid distribution -lick (c:\\programdata\\anaconda3\\lib\\site-packages)\n",
      "WARNING: Ignoring invalid distribution -oblib (c:\\programdata\\anaconda3\\lib\\site-packages)\n",
      "WARNING: Ignoring invalid distribution -umpy (c:\\programdata\\anaconda3\\lib\\site-packages)\n",
      "WARNING: Ignoring invalid distribution -xml (c:\\programdata\\anaconda3\\lib\\site-packages)\n",
      "WARNING: Ignoring invalid distribution -ytz (c:\\programdata\\anaconda3\\lib\\site-packages)\n",
      "WARNING: Ignoring invalid distribution -ml (c:\\programdata\\anaconda3\\lib\\site-packages)\n",
      "WARNING: Ignoring invalid distribution -rkupsafe (c:\\programdata\\anaconda3\\lib\\site-packages)\n",
      "WARNING: Ignoring invalid distribution - (c:\\programdata\\anaconda3\\lib\\site-packages)\n",
      "WARNING: Ignoring invalid distribution -rkupsafe (c:\\programdata\\anaconda3\\lib\\site-packages)\n",
      "WARNING: Ignoring invalid distribution -0rkupsafe (c:\\programdata\\anaconda3\\lib\\site-packages)\n",
      "WARNING: Ignoring invalid distribution -1rkupsafe (c:\\programdata\\anaconda3\\lib\\site-packages)\n",
      "WARNING: Ignoring invalid distribution -2rkupsafe (c:\\programdata\\anaconda3\\lib\\site-packages)\n",
      "WARNING: Ignoring invalid distribution -3rkupsafe (c:\\programdata\\anaconda3\\lib\\site-packages)\n",
      "WARNING: Ignoring invalid distribution -arkupsafe (c:\\programdata\\anaconda3\\lib\\site-packages)\n",
      "WARNING: Ignoring invalid distribution -cikit-learn (c:\\programdata\\anaconda3\\lib\\site-packages)\n",
      "WARNING: Ignoring invalid distribution -lick (c:\\programdata\\anaconda3\\lib\\site-packages)\n",
      "WARNING: Ignoring invalid distribution -oblib (c:\\programdata\\anaconda3\\lib\\site-packages)\n",
      "WARNING: Ignoring invalid distribution -umpy (c:\\programdata\\anaconda3\\lib\\site-packages)\n",
      "WARNING: Ignoring invalid distribution -xml (c:\\programdata\\anaconda3\\lib\\site-packages)\n",
      "WARNING: Ignoring invalid distribution -ytz (c:\\programdata\\anaconda3\\lib\\site-packages)\n",
      "WARNING: Ignoring invalid distribution -ml (c:\\programdata\\anaconda3\\lib\\site-packages)\n",
      "DEPRECATION: pyodbc 4.0.0-unsupported has a non-standard version number. pip 23.3 will enforce this behaviour change. A possible replacement is to upgrade to a newer version of pyodbc or contact the author to suggest that they release a version with a conforming version number. Discussion can be found at https://github.com/pypa/pip/issues/12063\n"
     ]
    }
   ],
   "source": [
    "!pip install yfinance --user\n",
    "!pip3 install yfinance --user"
   ]
  },
  {
   "cell_type": "code",
   "execution_count": 4,
   "id": "66217531",
   "metadata": {},
   "outputs": [],
   "source": [
    "import yfinance as yf"
   ]
  },
  {
   "cell_type": "markdown",
   "id": "165c7f51",
   "metadata": {},
   "source": [
    "#df_tesla=pdr.get_data_yahoo(\"TSLA\")\n",
    "#df_tesla.head()"
   ]
  },
  {
   "cell_type": "markdown",
   "id": "dc6a2210",
   "metadata": {},
   "source": [
    "#import pandas as pd\n",
    "#import numpy as np\n",
    "#from sklearn.linear_model import LinearRegression\n",
    "#from yahoofinancials import YahooFinancials\n",
    "\n",
    "#stock = ['TESLA']\n",
    "#yahoo_finance = YahooFinancials(stock)\n",
    "#stats = (yahoo_finance.get_historical_price_data(\"2001-01-01\", \"2023-04-30\", \"daily\"))"
   ]
  },
  {
   "cell_type": "code",
   "execution_count": 11,
   "id": "0ec204c3",
   "metadata": {},
   "outputs": [
    {
     "name": "stdout",
     "output_type": "stream",
     "text": [
      "[*********************100%%**********************]  1 of 1 completed\n"
     ]
    },
    {
     "data": {
      "text/plain": [
       "(1239, 6)"
      ]
     },
     "execution_count": 11,
     "metadata": {},
     "output_type": "execute_result"
    }
   ],
   "source": [
    "import yfinance as yf\n",
    "\n",
    "from datetime import date, timedelta\n",
    "today = date.today()\n",
    "today\n",
    "end_date = today.strftime(\"%Y-%m-%d\")\n",
    "end_date\n",
    "d1 = date.today() - timedelta(days=360*5) #for last 5 years\n",
    "d1\n",
    "start_date = d1.strftime(\"%Y-%m-%d\")\n",
    "start_date\n",
    "df_msft = yf.download(tickers = \"MSFT\",\n",
    "                  start = start_date,\n",
    "                  end = end_date)\n",
    "df_msft.shape"
   ]
  },
  {
   "cell_type": "markdown",
   "id": "a9e58d2c",
   "metadata": {},
   "source": [
    "from datetime import datetime as dt\n",
    "\n",
    "import pytz\n",
    "import streamlit as st\n",
    "import yfinance as yf\n",
    "\n",
    "tz = pytz.timezone(\"America/New_York\")\n",
    "start = tz.localize(dt(2013,1,1))\n",
    "end = tz.localize(dt.today())\n",
    "\n",
    "tickers = \"TESLA\"\n",
    "df_tesla = yf.download(tickers,start, end, auto_adjust=True)['Close']\n",
    "\n",
    "st.table(df_tesla.head())"
   ]
  },
  {
   "cell_type": "code",
   "execution_count": 12,
   "id": "0119111a",
   "metadata": {},
   "outputs": [
    {
     "data": {
      "text/plain": [
       "pandas.core.frame.DataFrame"
      ]
     },
     "execution_count": 12,
     "metadata": {},
     "output_type": "execute_result"
    }
   ],
   "source": [
    "type(df_msft)"
   ]
  },
  {
   "cell_type": "code",
   "execution_count": 27,
   "id": "659aaa76",
   "metadata": {},
   "outputs": [
    {
     "data": {
      "text/html": [
       "<div>\n",
       "<style scoped>\n",
       "    .dataframe tbody tr th:only-of-type {\n",
       "        vertical-align: middle;\n",
       "    }\n",
       "\n",
       "    .dataframe tbody tr th {\n",
       "        vertical-align: top;\n",
       "    }\n",
       "\n",
       "    .dataframe thead th {\n",
       "        text-align: right;\n",
       "    }\n",
       "</style>\n",
       "<table border=\"1\" class=\"dataframe\">\n",
       "  <thead>\n",
       "    <tr style=\"text-align: right;\">\n",
       "      <th></th>\n",
       "      <th>Open</th>\n",
       "      <th>High</th>\n",
       "      <th>Low</th>\n",
       "      <th>Close</th>\n",
       "      <th>Adj Close</th>\n",
       "      <th>Volume</th>\n",
       "    </tr>\n",
       "    <tr>\n",
       "      <th>Date</th>\n",
       "      <th></th>\n",
       "      <th></th>\n",
       "      <th></th>\n",
       "      <th></th>\n",
       "      <th></th>\n",
       "      <th></th>\n",
       "    </tr>\n",
       "  </thead>\n",
       "  <tbody>\n",
       "    <tr>\n",
       "      <th>2023-10-02</th>\n",
       "      <td>316.279999</td>\n",
       "      <td>321.890015</td>\n",
       "      <td>315.179993</td>\n",
       "      <td>321.799988</td>\n",
       "      <td>321.799988</td>\n",
       "      <td>20570000</td>\n",
       "    </tr>\n",
       "    <tr>\n",
       "      <th>2023-10-03</th>\n",
       "      <td>320.829987</td>\n",
       "      <td>321.390015</td>\n",
       "      <td>311.209991</td>\n",
       "      <td>313.390015</td>\n",
       "      <td>313.390015</td>\n",
       "      <td>21033500</td>\n",
       "    </tr>\n",
       "    <tr>\n",
       "      <th>2023-10-04</th>\n",
       "      <td>314.029999</td>\n",
       "      <td>320.040009</td>\n",
       "      <td>314.000000</td>\n",
       "      <td>318.959991</td>\n",
       "      <td>318.959991</td>\n",
       "      <td>20720100</td>\n",
       "    </tr>\n",
       "    <tr>\n",
       "      <th>2023-10-05</th>\n",
       "      <td>319.089996</td>\n",
       "      <td>319.980011</td>\n",
       "      <td>314.899994</td>\n",
       "      <td>319.359985</td>\n",
       "      <td>319.359985</td>\n",
       "      <td>16965600</td>\n",
       "    </tr>\n",
       "    <tr>\n",
       "      <th>2023-10-06</th>\n",
       "      <td>316.549988</td>\n",
       "      <td>329.190002</td>\n",
       "      <td>316.299988</td>\n",
       "      <td>327.260010</td>\n",
       "      <td>327.260010</td>\n",
       "      <td>25645500</td>\n",
       "    </tr>\n",
       "  </tbody>\n",
       "</table>\n",
       "</div>"
      ],
      "text/plain": [
       "                  Open        High         Low       Close   Adj Close  \\\n",
       "Date                                                                     \n",
       "2023-10-02  316.279999  321.890015  315.179993  321.799988  321.799988   \n",
       "2023-10-03  320.829987  321.390015  311.209991  313.390015  313.390015   \n",
       "2023-10-04  314.029999  320.040009  314.000000  318.959991  318.959991   \n",
       "2023-10-05  319.089996  319.980011  314.899994  319.359985  319.359985   \n",
       "2023-10-06  316.549988  329.190002  316.299988  327.260010  327.260010   \n",
       "\n",
       "              Volume  \n",
       "Date                  \n",
       "2023-10-02  20570000  \n",
       "2023-10-03  21033500  \n",
       "2023-10-04  20720100  \n",
       "2023-10-05  16965600  \n",
       "2023-10-06  25645500  "
      ]
     },
     "execution_count": 27,
     "metadata": {},
     "output_type": "execute_result"
    }
   ],
   "source": [
    "df_msft.tail()"
   ]
  },
  {
   "cell_type": "code",
   "execution_count": 13,
   "id": "1cf4e7d4",
   "metadata": {},
   "outputs": [
    {
     "data": {
      "text/plain": [
       "<AxesSubplot:xlabel='Date'>"
      ]
     },
     "execution_count": 13,
     "metadata": {},
     "output_type": "execute_result"
    },
    {
     "data": {
      "image/png": "[encoded data removed]",
      "text/plain": [
       "<Figure size 864x288 with 1 Axes>"
      ]
     },
     "metadata": {
      "needs_background": "light"
     },
     "output_type": "display_data"
    }
   ],
   "source": [
    "df_msft['High'].plot(figsize=(12,4))"
   ]
  },
  {
   "cell_type": "code",
   "execution_count": 14,
   "id": "2de49dff",
   "metadata": {},
   "outputs": [
    {
     "data": {
      "text/plain": [
       "<AxesSubplot:xlabel='Date'>"
      ]
     },
     "execution_count": 14,
     "metadata": {},
     "output_type": "execute_result"
    },
    {
     "data": {
      "image/png": "[encoded data removed]",
      "text/plain": [
       "<Figure size 864x288 with 1 Axes>"
      ]
     },
     "metadata": {
      "needs_background": "light"
     },
     "output_type": "display_data"
    }
   ],
   "source": [
    "#xlimit and y limit to plot line graph\n",
    "df_msft['High'].plot(xlim=['2020-01-01','2021-09-01'],figsize=(12,4))"
   ]
  },
  {
   "cell_type": "code",
   "execution_count": 22,
   "id": "8117692a",
   "metadata": {},
   "outputs": [
    {
     "data": {
      "text/plain": [
       "<AxesSubplot:xlabel='Date'>"
      ]
     },
     "execution_count": 22,
     "metadata": {},
     "output_type": "execute_result"
    },
    {
     "data": {
      "image/png": "[encoded data removed]",
      "text/plain": [
       "<Figure size 864x288 with 1 Axes>"
      ]
     },
     "metadata": {
      "needs_background": "light"
     },
     "output_type": "display_data"
    }
   ],
   "source": [
    "df_msft['High'].plot(xlim=['2020-01-01','2023-09-01'],ylim=[0,1000],figsize=(12,4))"
   ]
  },
  {
   "cell_type": "code",
   "execution_count": 23,
   "id": "3869696e",
   "metadata": {},
   "outputs": [
    {
     "data": {
      "text/plain": [
       "DatetimeIndex(['2018-11-02', '2018-11-05', '2018-11-06', '2018-11-07',\n",
       "               '2018-11-08', '2018-11-09', '2018-11-12', '2018-11-13',\n",
       "               '2018-11-14', '2018-11-15',\n",
       "               ...\n",
       "               '2023-09-25', '2023-09-26', '2023-09-27', '2023-09-28',\n",
       "               '2023-09-29', '2023-10-02', '2023-10-03', '2023-10-04',\n",
       "               '2023-10-05', '2023-10-06'],\n",
       "              dtype='datetime64[ns]', name='Date', length=1239, freq=None)"
      ]
     },
     "execution_count": 23,
     "metadata": {},
     "output_type": "execute_result"
    }
   ],
   "source": [
    "df_msft.index"
   ]
  },
  {
   "cell_type": "code",
   "execution_count": 24,
   "id": "8ee2c392",
   "metadata": {},
   "outputs": [
    {
     "data": {
      "text/plain": [
       "DatetimeIndex(['2020-01-02', '2020-01-03', '2020-01-06', '2020-01-07',\n",
       "               '2020-01-08', '2020-01-09', '2020-01-10', '2020-01-13',\n",
       "               '2020-01-14', '2020-01-15',\n",
       "               ...\n",
       "               '2021-08-19', '2021-08-20', '2021-08-23', '2021-08-24',\n",
       "               '2021-08-25', '2021-08-26', '2021-08-27', '2021-08-30',\n",
       "               '2021-08-31', '2021-09-01'],\n",
       "              dtype='datetime64[ns]', name='Date', length=421, freq=None)"
      ]
     },
     "execution_count": 24,
     "metadata": {},
     "output_type": "execute_result"
    }
   ],
   "source": [
    "df_msft.loc['2020-01-01':'2021-09-01'].index"
   ]
  },
  {
   "cell_type": "code",
   "execution_count": 29,
   "id": "61055319",
   "metadata": {},
   "outputs": [],
   "source": [
    "index=df_msft.loc['2020-01-01':'2023-09-01'].index\n",
    "share_open=df_msft.loc['2020-01-01':'2023-09-01']['Open']"
   ]
  },
  {
   "cell_type": "code",
   "execution_count": 28,
   "id": "d1d39693",
   "metadata": {},
   "outputs": [
    {
     "data": {
      "text/plain": [
       "Date\n",
       "2020-01-02    158.779999\n",
       "2020-01-03    158.320007\n",
       "2020-01-06    157.080002\n",
       "2020-01-07    159.320007\n",
       "2020-01-08    158.929993\n",
       "                 ...    \n",
       "2023-08-28    325.660004\n",
       "2023-08-29    321.880005\n",
       "2023-08-30    328.670013\n",
       "2023-08-31    329.200012\n",
       "2023-09-01    331.309998\n",
       "Name: Open, Length: 924, dtype: float64"
      ]
     },
     "execution_count": 28,
     "metadata": {},
     "output_type": "execute_result"
    }
   ],
   "source": [
    "share_open"
   ]
  },
  {
   "cell_type": "code",
   "execution_count": 30,
   "id": "0bf5db95",
   "metadata": {},
   "outputs": [
    {
     "data": {
      "text/plain": [
       "DatetimeIndex(['2020-01-02', '2020-01-03', '2020-01-06', '2020-01-07',\n",
       "               '2020-01-08', '2020-01-09', '2020-01-10', '2020-01-13',\n",
       "               '2020-01-14', '2020-01-15',\n",
       "               ...\n",
       "               '2023-08-21', '2023-08-22', '2023-08-23', '2023-08-24',\n",
       "               '2023-08-25', '2023-08-28', '2023-08-29', '2023-08-30',\n",
       "               '2023-08-31', '2023-09-01'],\n",
       "              dtype='datetime64[ns]', name='Date', length=924, freq=None)"
      ]
     },
     "execution_count": 30,
     "metadata": {},
     "output_type": "execute_result"
    }
   ],
   "source": [
    "index"
   ]
  },
  {
   "cell_type": "code",
   "execution_count": 31,
   "id": "2bb0ec75",
   "metadata": {},
   "outputs": [],
   "source": [
    "import matplotlib.pyplot as plt\n",
    "%matplotlib inline"
   ]
  },
  {
   "cell_type": "code",
   "execution_count": 39,
   "id": "c07b1d83",
   "metadata": {},
   "outputs": [
    {
     "ename": "ValueError",
     "evalue": "Multi-dimensional indexing (e.g. `obj[:, None]`) is no longer supported. Convert to a numpy array before indexing instead.",
     "output_type": "error",
     "traceback": [
      "\u001b[1;31m---------------------------------------------------------------------------\u001b[0m",
      "\u001b[1;31mValueError\u001b[0m                                Traceback (most recent call last)",
      "\u001b[1;32m<ipython-input-39-c3ed6e53a3bb>\u001b[0m in \u001b[0;36m<module>\u001b[1;34m\u001b[0m\n\u001b[0;32m      3\u001b[0m \u001b[1;31m#preventing overlapping\u001b[0m\u001b[1;33m\u001b[0m\u001b[1;33m\u001b[0m\u001b[1;33m\u001b[0m\u001b[0m\n\u001b[0;32m      4\u001b[0m \u001b[0mfigure\u001b[0m\u001b[1;33m.\u001b[0m\u001b[0mautofmt_xdate\u001b[0m\u001b[1;33m(\u001b[0m\u001b[1;33m)\u001b[0m\u001b[1;33m\u001b[0m\u001b[1;33m\u001b[0m\u001b[0m\n\u001b[1;32m----> 5\u001b[1;33m \u001b[0maxis\u001b[0m\u001b[1;33m.\u001b[0m\u001b[0mplot\u001b[0m\u001b[1;33m(\u001b[0m\u001b[0mindex\u001b[0m\u001b[1;33m,\u001b[0m\u001b[0mshare_open\u001b[0m\u001b[1;33m)\u001b[0m\u001b[1;33m\u001b[0m\u001b[1;33m\u001b[0m\u001b[0m\n\u001b[0m",
      "\u001b[1;32mC:\\ProgramData\\Anaconda3\\lib\\site-packages\\matplotlib\\axes\\_axes.py\u001b[0m in \u001b[0;36mplot\u001b[1;34m(self, scalex, scaley, data, *args, **kwargs)\u001b[0m\n\u001b[0;32m   1741\u001b[0m         \"\"\"\n\u001b[0;32m   1742\u001b[0m         \u001b[0mkwargs\u001b[0m \u001b[1;33m=\u001b[0m \u001b[0mcbook\u001b[0m\u001b[1;33m.\u001b[0m\u001b[0mnormalize_kwargs\u001b[0m\u001b[1;33m(\u001b[0m\u001b[0mkwargs\u001b[0m\u001b[1;33m,\u001b[0m \u001b[0mmlines\u001b[0m\u001b[1;33m.\u001b[0m\u001b[0mLine2D\u001b[0m\u001b[1;33m)\u001b[0m\u001b[1;33m\u001b[0m\u001b[1;33m\u001b[0m\u001b[0m\n\u001b[1;32m-> 1743\u001b[1;33m         \u001b[0mlines\u001b[0m \u001b[1;33m=\u001b[0m \u001b[1;33m[\u001b[0m\u001b[1;33m*\u001b[0m\u001b[0mself\u001b[0m\u001b[1;33m.\u001b[0m\u001b[0m_get_lines\u001b[0m\u001b[1;33m(\u001b[0m\u001b[1;33m*\u001b[0m\u001b[0margs\u001b[0m\u001b[1;33m,\u001b[0m \u001b[0mdata\u001b[0m\u001b[1;33m=\u001b[0m\u001b[0mdata\u001b[0m\u001b[1;33m,\u001b[0m \u001b[1;33m**\u001b[0m\u001b[0mkwargs\u001b[0m\u001b[1;33m)\u001b[0m\u001b[1;33m]\u001b[0m\u001b[1;33m\u001b[0m\u001b[1;33m\u001b[0m\u001b[0m\n\u001b[0m\u001b[0;32m   1744\u001b[0m         \u001b[1;32mfor\u001b[0m \u001b[0mline\u001b[0m \u001b[1;32min\u001b[0m \u001b[0mlines\u001b[0m\u001b[1;33m:\u001b[0m\u001b[1;33m\u001b[0m\u001b[1;33m\u001b[0m\u001b[0m\n\u001b[0;32m   1745\u001b[0m             \u001b[0mself\u001b[0m\u001b[1;33m.\u001b[0m\u001b[0madd_line\u001b[0m\u001b[1;33m(\u001b[0m\u001b[0mline\u001b[0m\u001b[1;33m)\u001b[0m\u001b[1;33m\u001b[0m\u001b[1;33m\u001b[0m\u001b[0m\n",
      "\u001b[1;32mC:\\ProgramData\\Anaconda3\\lib\\site-packages\\matplotlib\\axes\\_base.py\u001b[0m in \u001b[0;36m__call__\u001b[1;34m(self, data, *args, **kwargs)\u001b[0m\n\u001b[0;32m    271\u001b[0m                 \u001b[0mthis\u001b[0m \u001b[1;33m+=\u001b[0m \u001b[0margs\u001b[0m\u001b[1;33m[\u001b[0m\u001b[1;36m0\u001b[0m\u001b[1;33m]\u001b[0m\u001b[1;33m,\u001b[0m\u001b[1;33m\u001b[0m\u001b[1;33m\u001b[0m\u001b[0m\n\u001b[0;32m    272\u001b[0m                 \u001b[0margs\u001b[0m \u001b[1;33m=\u001b[0m \u001b[0margs\u001b[0m\u001b[1;33m[\u001b[0m\u001b[1;36m1\u001b[0m\u001b[1;33m:\u001b[0m\u001b[1;33m]\u001b[0m\u001b[1;33m\u001b[0m\u001b[1;33m\u001b[0m\u001b[0m\n\u001b[1;32m--> 273\u001b[1;33m             \u001b[1;32myield\u001b[0m \u001b[1;32mfrom\u001b[0m \u001b[0mself\u001b[0m\u001b[1;33m.\u001b[0m\u001b[0m_plot_args\u001b[0m\u001b[1;33m(\u001b[0m\u001b[0mthis\u001b[0m\u001b[1;33m,\u001b[0m \u001b[0mkwargs\u001b[0m\u001b[1;33m)\u001b[0m\u001b[1;33m\u001b[0m\u001b[1;33m\u001b[0m\u001b[0m\n\u001b[0m\u001b[0;32m    274\u001b[0m \u001b[1;33m\u001b[0m\u001b[0m\n\u001b[0;32m    275\u001b[0m     \u001b[1;32mdef\u001b[0m \u001b[0mget_next_color\u001b[0m\u001b[1;33m(\u001b[0m\u001b[0mself\u001b[0m\u001b[1;33m)\u001b[0m\u001b[1;33m:\u001b[0m\u001b[1;33m\u001b[0m\u001b[1;33m\u001b[0m\u001b[0m\n",
      "\u001b[1;32mC:\\ProgramData\\Anaconda3\\lib\\site-packages\\matplotlib\\axes\\_base.py\u001b[0m in \u001b[0;36m_plot_args\u001b[1;34m(self, tup, kwargs)\u001b[0m\n\u001b[0;32m    386\u001b[0m \u001b[1;33m\u001b[0m\u001b[0m\n\u001b[0;32m    387\u001b[0m         \u001b[1;32mif\u001b[0m \u001b[0mlen\u001b[0m\u001b[1;33m(\u001b[0m\u001b[0mtup\u001b[0m\u001b[1;33m)\u001b[0m \u001b[1;33m==\u001b[0m \u001b[1;36m2\u001b[0m\u001b[1;33m:\u001b[0m\u001b[1;33m\u001b[0m\u001b[1;33m\u001b[0m\u001b[0m\n\u001b[1;32m--> 388\u001b[1;33m             \u001b[0mx\u001b[0m \u001b[1;33m=\u001b[0m \u001b[0m_check_1d\u001b[0m\u001b[1;33m(\u001b[0m\u001b[0mtup\u001b[0m\u001b[1;33m[\u001b[0m\u001b[1;36m0\u001b[0m\u001b[1;33m]\u001b[0m\u001b[1;33m)\u001b[0m\u001b[1;33m\u001b[0m\u001b[1;33m\u001b[0m\u001b[0m\n\u001b[0m\u001b[0;32m    389\u001b[0m             \u001b[0my\u001b[0m \u001b[1;33m=\u001b[0m \u001b[0m_check_1d\u001b[0m\u001b[1;33m(\u001b[0m\u001b[0mtup\u001b[0m\u001b[1;33m[\u001b[0m\u001b[1;33m-\u001b[0m\u001b[1;36m1\u001b[0m\u001b[1;33m]\u001b[0m\u001b[1;33m)\u001b[0m\u001b[1;33m\u001b[0m\u001b[1;33m\u001b[0m\u001b[0m\n\u001b[0;32m    390\u001b[0m         \u001b[1;32melse\u001b[0m\u001b[1;33m:\u001b[0m\u001b[1;33m\u001b[0m\u001b[1;33m\u001b[0m\u001b[0m\n",
      "\u001b[1;32mC:\\ProgramData\\Anaconda3\\lib\\site-packages\\matplotlib\\cbook\\__init__.py\u001b[0m in \u001b[0;36m_check_1d\u001b[1;34m(x)\u001b[0m\n\u001b[0;32m   1316\u001b[0m                     message='Support for multi-dimensional indexing')\n\u001b[0;32m   1317\u001b[0m \u001b[1;33m\u001b[0m\u001b[0m\n\u001b[1;32m-> 1318\u001b[1;33m                 \u001b[0mndim\u001b[0m \u001b[1;33m=\u001b[0m \u001b[0mx\u001b[0m\u001b[1;33m[\u001b[0m\u001b[1;33m:\u001b[0m\u001b[1;33m,\u001b[0m \u001b[1;32mNone\u001b[0m\u001b[1;33m]\u001b[0m\u001b[1;33m.\u001b[0m\u001b[0mndim\u001b[0m\u001b[1;33m\u001b[0m\u001b[1;33m\u001b[0m\u001b[0m\n\u001b[0m\u001b[0;32m   1319\u001b[0m                 \u001b[1;31m# we have definitely hit a pandas index or series object\u001b[0m\u001b[1;33m\u001b[0m\u001b[1;33m\u001b[0m\u001b[1;33m\u001b[0m\u001b[0m\n\u001b[0;32m   1320\u001b[0m                 \u001b[1;31m# cast to a numpy array.\u001b[0m\u001b[1;33m\u001b[0m\u001b[1;33m\u001b[0m\u001b[1;33m\u001b[0m\u001b[0m\n",
      "\u001b[1;32m~\\AppData\\Roaming\\Python\\Python38\\site-packages\\pandas\\core\\indexes\\base.py\u001b[0m in \u001b[0;36m__getitem__\u001b[1;34m(self, key)\u001b[0m\n\u001b[0;32m   5197\u001b[0m         \u001b[1;31m# Because we ruled out integer above, we always get an arraylike here\u001b[0m\u001b[1;33m\u001b[0m\u001b[1;33m\u001b[0m\u001b[1;33m\u001b[0m\u001b[0m\n\u001b[0;32m   5198\u001b[0m         \u001b[1;32mif\u001b[0m \u001b[0mresult\u001b[0m\u001b[1;33m.\u001b[0m\u001b[0mndim\u001b[0m \u001b[1;33m>\u001b[0m \u001b[1;36m1\u001b[0m\u001b[1;33m:\u001b[0m\u001b[1;33m\u001b[0m\u001b[1;33m\u001b[0m\u001b[0m\n\u001b[1;32m-> 5199\u001b[1;33m             \u001b[0mdisallow_ndim_indexing\u001b[0m\u001b[1;33m(\u001b[0m\u001b[0mresult\u001b[0m\u001b[1;33m)\u001b[0m\u001b[1;33m\u001b[0m\u001b[1;33m\u001b[0m\u001b[0m\n\u001b[0m\u001b[0;32m   5200\u001b[0m \u001b[1;33m\u001b[0m\u001b[0m\n\u001b[0;32m   5201\u001b[0m         \u001b[1;31m# NB: Using _constructor._simple_new would break if MultiIndex\u001b[0m\u001b[1;33m\u001b[0m\u001b[1;33m\u001b[0m\u001b[1;33m\u001b[0m\u001b[0m\n",
      "\u001b[1;32m~\\AppData\\Roaming\\Python\\Python38\\site-packages\\pandas\\core\\indexers\\utils.py\u001b[0m in \u001b[0;36mdisallow_ndim_indexing\u001b[1;34m(result)\u001b[0m\n\u001b[0;32m    341\u001b[0m     \"\"\"\n\u001b[0;32m    342\u001b[0m     \u001b[1;32mif\u001b[0m \u001b[0mnp\u001b[0m\u001b[1;33m.\u001b[0m\u001b[0mndim\u001b[0m\u001b[1;33m(\u001b[0m\u001b[0mresult\u001b[0m\u001b[1;33m)\u001b[0m \u001b[1;33m>\u001b[0m \u001b[1;36m1\u001b[0m\u001b[1;33m:\u001b[0m\u001b[1;33m\u001b[0m\u001b[1;33m\u001b[0m\u001b[0m\n\u001b[1;32m--> 343\u001b[1;33m         raise ValueError(\n\u001b[0m\u001b[0;32m    344\u001b[0m             \u001b[1;34m\"Multi-dimensional indexing (e.g. `obj[:, None]`) is no longer \"\u001b[0m\u001b[1;33m\u001b[0m\u001b[1;33m\u001b[0m\u001b[0m\n\u001b[0;32m    345\u001b[0m             \u001b[1;34m\"supported. Convert to a numpy array before indexing instead.\"\u001b[0m\u001b[1;33m\u001b[0m\u001b[1;33m\u001b[0m\u001b[0m\n",
      "\u001b[1;31mValueError\u001b[0m: Multi-dimensional indexing (e.g. `obj[:, None]`) is no longer supported. Convert to a numpy array before indexing instead."
     ]
    },
    {
     "data": {
      "image/png": "[encoded data removed]",
      "text/plain": [
       "<Figure size 432x288 with 1 Axes>"
      ]
     },
     "metadata": {
      "needs_background": "light"
     },
     "output_type": "display_data"
    }
   ],
   "source": [
    "figure,axis=plt.subplots()\n",
    "plt.tight_layout()\n",
    "#preventing overlapping\n",
    "figure.autofmt_xdate()\n",
    "axis.plot(index,share_open)"
   ]
  },
  {
   "cell_type": "code",
   "execution_count": 40,
   "id": "6daacd4e",
   "metadata": {},
   "outputs": [],
   "source": [
    "##Date time Index"
   ]
  },
  {
   "cell_type": "code",
   "execution_count": 42,
   "id": "9d19e1e8",
   "metadata": {},
   "outputs": [],
   "source": [
    "df_msft=df_msft.reset_index()"
   ]
  },
  {
   "cell_type": "code",
   "execution_count": 43,
   "id": "4cd0a004",
   "metadata": {},
   "outputs": [
    {
     "name": "stdout",
     "output_type": "stream",
     "text": [
      "<class 'pandas.core.frame.DataFrame'>\n",
      "RangeIndex: 1239 entries, 0 to 1238\n",
      "Data columns (total 7 columns):\n",
      " #   Column     Non-Null Count  Dtype         \n",
      "---  ------     --------------  -----         \n",
      " 0   Date       1239 non-null   datetime64[ns]\n",
      " 1   Open       1239 non-null   float64       \n",
      " 2   High       1239 non-null   float64       \n",
      " 3   Low        1239 non-null   float64       \n",
      " 4   Close      1239 non-null   float64       \n",
      " 5   Adj Close  1239 non-null   float64       \n",
      " 6   Volume     1239 non-null   int64         \n",
      "dtypes: datetime64[ns](1), float64(5), int64(1)\n",
      "memory usage: 67.9 KB\n"
     ]
    }
   ],
   "source": [
    "df_msft.info()"
   ]
  },
  {
   "cell_type": "code",
   "execution_count": 44,
   "id": "612c1a46",
   "metadata": {},
   "outputs": [
    {
     "data": {
      "text/plain": [
       "0      2018-11-02\n",
       "1      2018-11-05\n",
       "2      2018-11-06\n",
       "3      2018-11-07\n",
       "4      2018-11-08\n",
       "          ...    \n",
       "1234   2023-10-02\n",
       "1235   2023-10-03\n",
       "1236   2023-10-04\n",
       "1237   2023-10-05\n",
       "1238   2023-10-06\n",
       "Name: Date, Length: 1239, dtype: datetime64[ns]"
      ]
     },
     "execution_count": 44,
     "metadata": {},
     "output_type": "execute_result"
    }
   ],
   "source": [
    "pd.to_datetime(df_msft['Date'])"
   ]
  },
  {
   "cell_type": "code",
   "execution_count": 45,
   "id": "c79e4284",
   "metadata": {},
   "outputs": [
    {
     "data": {
      "text/html": [
       "<div>\n",
       "<style scoped>\n",
       "    .dataframe tbody tr th:only-of-type {\n",
       "        vertical-align: middle;\n",
       "    }\n",
       "\n",
       "    .dataframe tbody tr th {\n",
       "        vertical-align: top;\n",
       "    }\n",
       "\n",
       "    .dataframe thead th {\n",
       "        text-align: right;\n",
       "    }\n",
       "</style>\n",
       "<table border=\"1\" class=\"dataframe\">\n",
       "  <thead>\n",
       "    <tr style=\"text-align: right;\">\n",
       "      <th></th>\n",
       "      <th>Date</th>\n",
       "      <th>Open</th>\n",
       "      <th>High</th>\n",
       "      <th>Low</th>\n",
       "      <th>Close</th>\n",
       "      <th>Adj Close</th>\n",
       "      <th>Volume</th>\n",
       "    </tr>\n",
       "  </thead>\n",
       "  <tbody>\n",
       "    <tr>\n",
       "      <th>0</th>\n",
       "      <td>2018-11-02</td>\n",
       "      <td>106.480003</td>\n",
       "      <td>107.320000</td>\n",
       "      <td>104.980003</td>\n",
       "      <td>106.160004</td>\n",
       "      <td>100.579330</td>\n",
       "      <td>37680200</td>\n",
       "    </tr>\n",
       "    <tr>\n",
       "      <th>1</th>\n",
       "      <td>2018-11-05</td>\n",
       "      <td>106.370003</td>\n",
       "      <td>107.739998</td>\n",
       "      <td>105.900002</td>\n",
       "      <td>107.510002</td>\n",
       "      <td>101.858368</td>\n",
       "      <td>27922100</td>\n",
       "    </tr>\n",
       "    <tr>\n",
       "      <th>2</th>\n",
       "      <td>2018-11-06</td>\n",
       "      <td>107.379997</td>\n",
       "      <td>108.839996</td>\n",
       "      <td>106.279999</td>\n",
       "      <td>107.720001</td>\n",
       "      <td>102.057335</td>\n",
       "      <td>24340200</td>\n",
       "    </tr>\n",
       "    <tr>\n",
       "      <th>3</th>\n",
       "      <td>2018-11-07</td>\n",
       "      <td>109.440002</td>\n",
       "      <td>112.239998</td>\n",
       "      <td>109.400002</td>\n",
       "      <td>111.959999</td>\n",
       "      <td>106.074417</td>\n",
       "      <td>37901700</td>\n",
       "    </tr>\n",
       "    <tr>\n",
       "      <th>4</th>\n",
       "      <td>2018-11-08</td>\n",
       "      <td>111.800003</td>\n",
       "      <td>112.209999</td>\n",
       "      <td>110.910004</td>\n",
       "      <td>111.750000</td>\n",
       "      <td>105.875465</td>\n",
       "      <td>25644100</td>\n",
       "    </tr>\n",
       "    <tr>\n",
       "      <th>...</th>\n",
       "      <td>...</td>\n",
       "      <td>...</td>\n",
       "      <td>...</td>\n",
       "      <td>...</td>\n",
       "      <td>...</td>\n",
       "      <td>...</td>\n",
       "      <td>...</td>\n",
       "    </tr>\n",
       "    <tr>\n",
       "      <th>1234</th>\n",
       "      <td>2023-10-02</td>\n",
       "      <td>316.279999</td>\n",
       "      <td>321.890015</td>\n",
       "      <td>315.179993</td>\n",
       "      <td>321.799988</td>\n",
       "      <td>321.799988</td>\n",
       "      <td>20570000</td>\n",
       "    </tr>\n",
       "    <tr>\n",
       "      <th>1235</th>\n",
       "      <td>2023-10-03</td>\n",
       "      <td>320.829987</td>\n",
       "      <td>321.390015</td>\n",
       "      <td>311.209991</td>\n",
       "      <td>313.390015</td>\n",
       "      <td>313.390015</td>\n",
       "      <td>21033500</td>\n",
       "    </tr>\n",
       "    <tr>\n",
       "      <th>1236</th>\n",
       "      <td>2023-10-04</td>\n",
       "      <td>314.029999</td>\n",
       "      <td>320.040009</td>\n",
       "      <td>314.000000</td>\n",
       "      <td>318.959991</td>\n",
       "      <td>318.959991</td>\n",
       "      <td>20720100</td>\n",
       "    </tr>\n",
       "    <tr>\n",
       "      <th>1237</th>\n",
       "      <td>2023-10-05</td>\n",
       "      <td>319.089996</td>\n",
       "      <td>319.980011</td>\n",
       "      <td>314.899994</td>\n",
       "      <td>319.359985</td>\n",
       "      <td>319.359985</td>\n",
       "      <td>16965600</td>\n",
       "    </tr>\n",
       "    <tr>\n",
       "      <th>1238</th>\n",
       "      <td>2023-10-06</td>\n",
       "      <td>316.549988</td>\n",
       "      <td>329.190002</td>\n",
       "      <td>316.299988</td>\n",
       "      <td>327.260010</td>\n",
       "      <td>327.260010</td>\n",
       "      <td>25645500</td>\n",
       "    </tr>\n",
       "  </tbody>\n",
       "</table>\n",
       "<p>1239 rows × 7 columns</p>\n",
       "</div>"
      ],
      "text/plain": [
       "           Date        Open        High         Low       Close   Adj Close  \\\n",
       "0    2018-11-02  106.480003  107.320000  104.980003  106.160004  100.579330   \n",
       "1    2018-11-05  106.370003  107.739998  105.900002  107.510002  101.858368   \n",
       "2    2018-11-06  107.379997  108.839996  106.279999  107.720001  102.057335   \n",
       "3    2018-11-07  109.440002  112.239998  109.400002  111.959999  106.074417   \n",
       "4    2018-11-08  111.800003  112.209999  110.910004  111.750000  105.875465   \n",
       "...         ...         ...         ...         ...         ...         ...   \n",
       "1234 2023-10-02  316.279999  321.890015  315.179993  321.799988  321.799988   \n",
       "1235 2023-10-03  320.829987  321.390015  311.209991  313.390015  313.390015   \n",
       "1236 2023-10-04  314.029999  320.040009  314.000000  318.959991  318.959991   \n",
       "1237 2023-10-05  319.089996  319.980011  314.899994  319.359985  319.359985   \n",
       "1238 2023-10-06  316.549988  329.190002  316.299988  327.260010  327.260010   \n",
       "\n",
       "        Volume  \n",
       "0     37680200  \n",
       "1     27922100  \n",
       "2     24340200  \n",
       "3     37901700  \n",
       "4     25644100  \n",
       "...        ...  \n",
       "1234  20570000  \n",
       "1235  21033500  \n",
       "1236  20720100  \n",
       "1237  16965600  \n",
       "1238  25645500  \n",
       "\n",
       "[1239 rows x 7 columns]"
      ]
     },
     "execution_count": 45,
     "metadata": {},
     "output_type": "execute_result"
    }
   ],
   "source": [
    "df_msft"
   ]
  },
  {
   "cell_type": "code",
   "execution_count": 46,
   "id": "e7f9b418",
   "metadata": {},
   "outputs": [],
   "source": [
    "df_msft=df_msft.set_index('Date',drop=True)"
   ]
  },
  {
   "cell_type": "code",
   "execution_count": 47,
   "id": "1ffa5653",
   "metadata": {},
   "outputs": [
    {
     "data": {
      "text/html": [
       "<div>\n",
       "<style scoped>\n",
       "    .dataframe tbody tr th:only-of-type {\n",
       "        vertical-align: middle;\n",
       "    }\n",
       "\n",
       "    .dataframe tbody tr th {\n",
       "        vertical-align: top;\n",
       "    }\n",
       "\n",
       "    .dataframe thead th {\n",
       "        text-align: right;\n",
       "    }\n",
       "</style>\n",
       "<table border=\"1\" class=\"dataframe\">\n",
       "  <thead>\n",
       "    <tr style=\"text-align: right;\">\n",
       "      <th></th>\n",
       "      <th>Open</th>\n",
       "      <th>High</th>\n",
       "      <th>Low</th>\n",
       "      <th>Close</th>\n",
       "      <th>Adj Close</th>\n",
       "      <th>Volume</th>\n",
       "    </tr>\n",
       "    <tr>\n",
       "      <th>Date</th>\n",
       "      <th></th>\n",
       "      <th></th>\n",
       "      <th></th>\n",
       "      <th></th>\n",
       "      <th></th>\n",
       "      <th></th>\n",
       "    </tr>\n",
       "  </thead>\n",
       "  <tbody>\n",
       "    <tr>\n",
       "      <th>2018-11-02</th>\n",
       "      <td>106.480003</td>\n",
       "      <td>107.320000</td>\n",
       "      <td>104.980003</td>\n",
       "      <td>106.160004</td>\n",
       "      <td>100.579330</td>\n",
       "      <td>37680200</td>\n",
       "    </tr>\n",
       "    <tr>\n",
       "      <th>2018-11-05</th>\n",
       "      <td>106.370003</td>\n",
       "      <td>107.739998</td>\n",
       "      <td>105.900002</td>\n",
       "      <td>107.510002</td>\n",
       "      <td>101.858368</td>\n",
       "      <td>27922100</td>\n",
       "    </tr>\n",
       "    <tr>\n",
       "      <th>2018-11-06</th>\n",
       "      <td>107.379997</td>\n",
       "      <td>108.839996</td>\n",
       "      <td>106.279999</td>\n",
       "      <td>107.720001</td>\n",
       "      <td>102.057335</td>\n",
       "      <td>24340200</td>\n",
       "    </tr>\n",
       "    <tr>\n",
       "      <th>2018-11-07</th>\n",
       "      <td>109.440002</td>\n",
       "      <td>112.239998</td>\n",
       "      <td>109.400002</td>\n",
       "      <td>111.959999</td>\n",
       "      <td>106.074417</td>\n",
       "      <td>37901700</td>\n",
       "    </tr>\n",
       "    <tr>\n",
       "      <th>2018-11-08</th>\n",
       "      <td>111.800003</td>\n",
       "      <td>112.209999</td>\n",
       "      <td>110.910004</td>\n",
       "      <td>111.750000</td>\n",
       "      <td>105.875465</td>\n",
       "      <td>25644100</td>\n",
       "    </tr>\n",
       "  </tbody>\n",
       "</table>\n",
       "</div>"
      ],
      "text/plain": [
       "                  Open        High         Low       Close   Adj Close  \\\n",
       "Date                                                                     \n",
       "2018-11-02  106.480003  107.320000  104.980003  106.160004  100.579330   \n",
       "2018-11-05  106.370003  107.739998  105.900002  107.510002  101.858368   \n",
       "2018-11-06  107.379997  108.839996  106.279999  107.720001  102.057335   \n",
       "2018-11-07  109.440002  112.239998  109.400002  111.959999  106.074417   \n",
       "2018-11-08  111.800003  112.209999  110.910004  111.750000  105.875465   \n",
       "\n",
       "              Volume  \n",
       "Date                  \n",
       "2018-11-02  37680200  \n",
       "2018-11-05  27922100  \n",
       "2018-11-06  24340200  \n",
       "2018-11-07  37901700  \n",
       "2018-11-08  25644100  "
      ]
     },
     "execution_count": 47,
     "metadata": {},
     "output_type": "execute_result"
    }
   ],
   "source": [
    "df_msft.head()"
   ]
  },
  {
   "cell_type": "code",
   "execution_count": 48,
   "id": "11b6adc4",
   "metadata": {},
   "outputs": [],
   "source": [
    "#datetime\n",
    "from datetime import datetime"
   ]
  },
  {
   "cell_type": "code",
   "execution_count": 50,
   "id": "cea22333",
   "metadata": {},
   "outputs": [
    {
     "data": {
      "text/plain": [
       "datetime.datetime(2021, 11, 21, 0, 0)"
      ]
     },
     "execution_count": 50,
     "metadata": {},
     "output_type": "execute_result"
    }
   ],
   "source": [
    "datetime(2021,11,21,0,0)"
   ]
  },
  {
   "cell_type": "code",
   "execution_count": 52,
   "id": "a1f6d516",
   "metadata": {},
   "outputs": [
    {
     "data": {
      "text/plain": [
       "datetime.datetime(2023, 10, 7, 21, 42, 50, 478919)"
      ]
     },
     "execution_count": 52,
     "metadata": {},
     "output_type": "execute_result"
    }
   ],
   "source": [
    "datetime.now()"
   ]
  },
  {
   "cell_type": "markdown",
   "id": "db30795c",
   "metadata": {},
   "source": [
    "#example on datetime\n",
    "def add_num(num1,num2):\n",
    "    return num1+num2"
   ]
  },
  {
   "cell_type": "markdown",
   "id": "30052991",
   "metadata": {},
   "source": [
    "start_time=datetime.now()\n",
    "num1=20\n",
    "num2=40\n",
    "for i in [1,2,3,4,5,6,7,8,9,10]:\n",
    "    add_num(num1,num2)\n",
    "end_time=datetime.now()\n",
    "print(end_time-start_time)"
   ]
  },
  {
   "cell_type": "code",
   "execution_count": 64,
   "id": "01a3a3e1",
   "metadata": {},
   "outputs": [],
   "source": [
    "date=datetime(2023,10,7)"
   ]
  },
  {
   "cell_type": "code",
   "execution_count": 65,
   "id": "1570be96",
   "metadata": {},
   "outputs": [
    {
     "data": {
      "text/plain": [
       "datetime.date(2023, 10, 7)"
      ]
     },
     "execution_count": 65,
     "metadata": {},
     "output_type": "execute_result"
    }
   ],
   "source": [
    "date.date()"
   ]
  },
  {
   "cell_type": "code",
   "execution_count": 66,
   "id": "ec6ef01d",
   "metadata": {},
   "outputs": [
    {
     "data": {
      "text/plain": [
       "datetime.datetime(2023, 10, 7, 0, 0)"
      ]
     },
     "execution_count": 66,
     "metadata": {},
     "output_type": "execute_result"
    }
   ],
   "source": [
    "date"
   ]
  },
  {
   "cell_type": "code",
   "execution_count": 67,
   "id": "01c94c1d",
   "metadata": {},
   "outputs": [
    {
     "data": {
      "text/plain": [
       "7"
      ]
     },
     "execution_count": 67,
     "metadata": {},
     "output_type": "execute_result"
    }
   ],
   "source": [
    "date.day"
   ]
  },
  {
   "cell_type": "code",
   "execution_count": 68,
   "id": "a69568a8",
   "metadata": {},
   "outputs": [
    {
     "data": {
      "text/plain": [
       "2023"
      ]
     },
     "execution_count": 68,
     "metadata": {},
     "output_type": "execute_result"
    }
   ],
   "source": [
    "date.year"
   ]
  },
  {
   "cell_type": "code",
   "execution_count": 69,
   "id": "5dd23515",
   "metadata": {},
   "outputs": [
    {
     "data": {
      "text/plain": [
       "10"
      ]
     },
     "execution_count": 69,
     "metadata": {},
     "output_type": "execute_result"
    }
   ],
   "source": [
    "date.month"
   ]
  },
  {
   "cell_type": "code",
   "execution_count": 70,
   "id": "0646461d",
   "metadata": {},
   "outputs": [
    {
     "data": {
      "text/plain": [
       "5"
      ]
     },
     "execution_count": 70,
     "metadata": {},
     "output_type": "execute_result"
    }
   ],
   "source": [
    "date.weekday()"
   ]
  },
  {
   "cell_type": "markdown",
   "id": "533aa3b6",
   "metadata": {},
   "source": [
    "# Time Resampling"
   ]
  },
  {
   "cell_type": "code",
   "execution_count": 71,
   "id": "75813094",
   "metadata": {},
   "outputs": [
    {
     "data": {
      "text/html": [
       "<div>\n",
       "<style scoped>\n",
       "    .dataframe tbody tr th:only-of-type {\n",
       "        vertical-align: middle;\n",
       "    }\n",
       "\n",
       "    .dataframe tbody tr th {\n",
       "        vertical-align: top;\n",
       "    }\n",
       "\n",
       "    .dataframe thead th {\n",
       "        text-align: right;\n",
       "    }\n",
       "</style>\n",
       "<table border=\"1\" class=\"dataframe\">\n",
       "  <thead>\n",
       "    <tr style=\"text-align: right;\">\n",
       "      <th></th>\n",
       "      <th>Open</th>\n",
       "      <th>High</th>\n",
       "      <th>Low</th>\n",
       "      <th>Close</th>\n",
       "      <th>Adj Close</th>\n",
       "      <th>Volume</th>\n",
       "    </tr>\n",
       "    <tr>\n",
       "      <th>Date</th>\n",
       "      <th></th>\n",
       "      <th></th>\n",
       "      <th></th>\n",
       "      <th></th>\n",
       "      <th></th>\n",
       "      <th></th>\n",
       "    </tr>\n",
       "  </thead>\n",
       "  <tbody>\n",
       "    <tr>\n",
       "      <th>2018-11-02</th>\n",
       "      <td>106.480003</td>\n",
       "      <td>107.320000</td>\n",
       "      <td>104.980003</td>\n",
       "      <td>106.160004</td>\n",
       "      <td>100.579330</td>\n",
       "      <td>37680200</td>\n",
       "    </tr>\n",
       "    <tr>\n",
       "      <th>2018-11-05</th>\n",
       "      <td>106.370003</td>\n",
       "      <td>107.739998</td>\n",
       "      <td>105.900002</td>\n",
       "      <td>107.510002</td>\n",
       "      <td>101.858368</td>\n",
       "      <td>27922100</td>\n",
       "    </tr>\n",
       "    <tr>\n",
       "      <th>2018-11-06</th>\n",
       "      <td>107.379997</td>\n",
       "      <td>108.839996</td>\n",
       "      <td>106.279999</td>\n",
       "      <td>107.720001</td>\n",
       "      <td>102.057335</td>\n",
       "      <td>24340200</td>\n",
       "    </tr>\n",
       "    <tr>\n",
       "      <th>2018-11-07</th>\n",
       "      <td>109.440002</td>\n",
       "      <td>112.239998</td>\n",
       "      <td>109.400002</td>\n",
       "      <td>111.959999</td>\n",
       "      <td>106.074417</td>\n",
       "      <td>37901700</td>\n",
       "    </tr>\n",
       "    <tr>\n",
       "      <th>2018-11-08</th>\n",
       "      <td>111.800003</td>\n",
       "      <td>112.209999</td>\n",
       "      <td>110.910004</td>\n",
       "      <td>111.750000</td>\n",
       "      <td>105.875465</td>\n",
       "      <td>25644100</td>\n",
       "    </tr>\n",
       "  </tbody>\n",
       "</table>\n",
       "</div>"
      ],
      "text/plain": [
       "                  Open        High         Low       Close   Adj Close  \\\n",
       "Date                                                                     \n",
       "2018-11-02  106.480003  107.320000  104.980003  106.160004  100.579330   \n",
       "2018-11-05  106.370003  107.739998  105.900002  107.510002  101.858368   \n",
       "2018-11-06  107.379997  108.839996  106.279999  107.720001  102.057335   \n",
       "2018-11-07  109.440002  112.239998  109.400002  111.959999  106.074417   \n",
       "2018-11-08  111.800003  112.209999  110.910004  111.750000  105.875465   \n",
       "\n",
       "              Volume  \n",
       "Date                  \n",
       "2018-11-02  37680200  \n",
       "2018-11-05  27922100  \n",
       "2018-11-06  24340200  \n",
       "2018-11-07  37901700  \n",
       "2018-11-08  25644100  "
      ]
     },
     "execution_count": 71,
     "metadata": {},
     "output_type": "execute_result"
    }
   ],
   "source": [
    "df_msft.head()"
   ]
  },
  {
   "cell_type": "code",
   "execution_count": 73,
   "id": "6a17607b",
   "metadata": {},
   "outputs": [
    {
     "data": {
      "text/html": [
       "<div>\n",
       "<style scoped>\n",
       "    .dataframe tbody tr th:only-of-type {\n",
       "        vertical-align: middle;\n",
       "    }\n",
       "\n",
       "    .dataframe tbody tr th {\n",
       "        vertical-align: top;\n",
       "    }\n",
       "\n",
       "    .dataframe thead th {\n",
       "        text-align: right;\n",
       "    }\n",
       "</style>\n",
       "<table border=\"1\" class=\"dataframe\">\n",
       "  <thead>\n",
       "    <tr style=\"text-align: right;\">\n",
       "      <th></th>\n",
       "      <th>Open</th>\n",
       "      <th>High</th>\n",
       "      <th>Low</th>\n",
       "      <th>Close</th>\n",
       "      <th>Adj Close</th>\n",
       "      <th>Volume</th>\n",
       "    </tr>\n",
       "    <tr>\n",
       "      <th>Date</th>\n",
       "      <th></th>\n",
       "      <th></th>\n",
       "      <th></th>\n",
       "      <th></th>\n",
       "      <th></th>\n",
       "      <th></th>\n",
       "    </tr>\n",
       "  </thead>\n",
       "  <tbody>\n",
       "    <tr>\n",
       "      <th>2018-12-31</th>\n",
       "      <td>95.139999</td>\n",
       "      <td>97.970001</td>\n",
       "      <td>93.959999</td>\n",
       "      <td>94.129997</td>\n",
       "      <td>89.566994</td>\n",
       "      <td>13823100</td>\n",
       "    </tr>\n",
       "    <tr>\n",
       "      <th>2019-12-31</th>\n",
       "      <td>99.550003</td>\n",
       "      <td>100.190002</td>\n",
       "      <td>97.199997</td>\n",
       "      <td>97.400002</td>\n",
       "      <td>92.678482</td>\n",
       "      <td>8989200</td>\n",
       "    </tr>\n",
       "    <tr>\n",
       "      <th>2020-12-31</th>\n",
       "      <td>137.009995</td>\n",
       "      <td>140.570007</td>\n",
       "      <td>132.520004</td>\n",
       "      <td>135.419998</td>\n",
       "      <td>131.117844</td>\n",
       "      <td>10550600</td>\n",
       "    </tr>\n",
       "    <tr>\n",
       "      <th>2021-12-31</th>\n",
       "      <td>212.169998</td>\n",
       "      <td>214.509995</td>\n",
       "      <td>211.940002</td>\n",
       "      <td>212.250000</td>\n",
       "      <td>207.118408</td>\n",
       "      <td>13900200</td>\n",
       "    </tr>\n",
       "    <tr>\n",
       "      <th>2022-12-31</th>\n",
       "      <td>217.550003</td>\n",
       "      <td>220.410004</td>\n",
       "      <td>213.429993</td>\n",
       "      <td>214.250000</td>\n",
       "      <td>212.199997</td>\n",
       "      <td>9200800</td>\n",
       "    </tr>\n",
       "    <tr>\n",
       "      <th>2023-12-31</th>\n",
       "      <td>223.000000</td>\n",
       "      <td>225.759995</td>\n",
       "      <td>219.350006</td>\n",
       "      <td>222.309998</td>\n",
       "      <td>220.803360</td>\n",
       "      <td>12508700</td>\n",
       "    </tr>\n",
       "  </tbody>\n",
       "</table>\n",
       "</div>"
      ],
      "text/plain": [
       "                  Open        High         Low       Close   Adj Close  \\\n",
       "Date                                                                     \n",
       "2018-12-31   95.139999   97.970001   93.959999   94.129997   89.566994   \n",
       "2019-12-31   99.550003  100.190002   97.199997   97.400002   92.678482   \n",
       "2020-12-31  137.009995  140.570007  132.520004  135.419998  131.117844   \n",
       "2021-12-31  212.169998  214.509995  211.940002  212.250000  207.118408   \n",
       "2022-12-31  217.550003  220.410004  213.429993  214.250000  212.199997   \n",
       "2023-12-31  223.000000  225.759995  219.350006  222.309998  220.803360   \n",
       "\n",
       "              Volume  \n",
       "Date                  \n",
       "2018-12-31  13823100  \n",
       "2019-12-31   8989200  \n",
       "2020-12-31  10550600  \n",
       "2021-12-31  13900200  \n",
       "2022-12-31   9200800  \n",
       "2023-12-31  12508700  "
      ]
     },
     "execution_count": 73,
     "metadata": {},
     "output_type": "execute_result"
    }
   ],
   "source": [
    "df_msft.resample(rule='A').min()"
   ]
  },
  {
   "cell_type": "code",
   "execution_count": 74,
   "id": "b7e6b30a",
   "metadata": {},
   "outputs": [
    {
     "data": {
      "text/html": [
       "<div>\n",
       "<style scoped>\n",
       "    .dataframe tbody tr th:only-of-type {\n",
       "        vertical-align: middle;\n",
       "    }\n",
       "\n",
       "    .dataframe tbody tr th {\n",
       "        vertical-align: top;\n",
       "    }\n",
       "\n",
       "    .dataframe thead th {\n",
       "        text-align: right;\n",
       "    }\n",
       "</style>\n",
       "<table border=\"1\" class=\"dataframe\">\n",
       "  <thead>\n",
       "    <tr style=\"text-align: right;\">\n",
       "      <th></th>\n",
       "      <th>Open</th>\n",
       "      <th>High</th>\n",
       "      <th>Low</th>\n",
       "      <th>Close</th>\n",
       "      <th>Adj Close</th>\n",
       "      <th>Volume</th>\n",
       "    </tr>\n",
       "    <tr>\n",
       "      <th>Date</th>\n",
       "      <th></th>\n",
       "      <th></th>\n",
       "      <th></th>\n",
       "      <th></th>\n",
       "      <th></th>\n",
       "      <th></th>\n",
       "    </tr>\n",
       "  </thead>\n",
       "  <tbody>\n",
       "    <tr>\n",
       "      <th>2018-12-31</th>\n",
       "      <td>113.000000</td>\n",
       "      <td>113.419998</td>\n",
       "      <td>110.910004</td>\n",
       "      <td>112.089996</td>\n",
       "      <td>106.656380</td>\n",
       "      <td>111242100</td>\n",
       "    </tr>\n",
       "    <tr>\n",
       "      <th>2019-12-31</th>\n",
       "      <td>159.449997</td>\n",
       "      <td>159.550003</td>\n",
       "      <td>158.220001</td>\n",
       "      <td>158.960007</td>\n",
       "      <td>153.490829</td>\n",
       "      <td>55636400</td>\n",
       "    </tr>\n",
       "    <tr>\n",
       "      <th>2020-12-31</th>\n",
       "      <td>229.270004</td>\n",
       "      <td>232.860001</td>\n",
       "      <td>227.350006</td>\n",
       "      <td>231.649994</td>\n",
       "      <td>225.459122</td>\n",
       "      <td>97012700</td>\n",
       "    </tr>\n",
       "    <tr>\n",
       "      <th>2021-12-31</th>\n",
       "      <td>344.619995</td>\n",
       "      <td>349.670013</td>\n",
       "      <td>342.200012</td>\n",
       "      <td>343.109985</td>\n",
       "      <td>337.621094</td>\n",
       "      <td>69870600</td>\n",
       "    </tr>\n",
       "    <tr>\n",
       "      <th>2022-12-31</th>\n",
       "      <td>335.350006</td>\n",
       "      <td>338.000000</td>\n",
       "      <td>329.779999</td>\n",
       "      <td>334.750000</td>\n",
       "      <td>329.394867</td>\n",
       "      <td>90428900</td>\n",
       "    </tr>\n",
       "    <tr>\n",
       "      <th>2023-12-31</th>\n",
       "      <td>361.750000</td>\n",
       "      <td>366.779999</td>\n",
       "      <td>352.440002</td>\n",
       "      <td>359.489990</td>\n",
       "      <td>358.730469</td>\n",
       "      <td>69527400</td>\n",
       "    </tr>\n",
       "  </tbody>\n",
       "</table>\n",
       "</div>"
      ],
      "text/plain": [
       "                  Open        High         Low       Close   Adj Close  \\\n",
       "Date                                                                     \n",
       "2018-12-31  113.000000  113.419998  110.910004  112.089996  106.656380   \n",
       "2019-12-31  159.449997  159.550003  158.220001  158.960007  153.490829   \n",
       "2020-12-31  229.270004  232.860001  227.350006  231.649994  225.459122   \n",
       "2021-12-31  344.619995  349.670013  342.200012  343.109985  337.621094   \n",
       "2022-12-31  335.350006  338.000000  329.779999  334.750000  329.394867   \n",
       "2023-12-31  361.750000  366.779999  352.440002  359.489990  358.730469   \n",
       "\n",
       "               Volume  \n",
       "Date                   \n",
       "2018-12-31  111242100  \n",
       "2019-12-31   55636400  \n",
       "2020-12-31   97012700  \n",
       "2021-12-31   69870600  \n",
       "2022-12-31   90428900  \n",
       "2023-12-31   69527400  "
      ]
     },
     "execution_count": 74,
     "metadata": {},
     "output_type": "execute_result"
    }
   ],
   "source": [
    "df_msft.resample(rule='A').max()"
   ]
  },
  {
   "cell_type": "code",
   "execution_count": 79,
   "id": "7623253f",
   "metadata": {},
   "outputs": [
    {
     "data": {
      "text/plain": [
       "<AxesSubplot:xlabel='Date'>"
      ]
     },
     "execution_count": 79,
     "metadata": {},
     "output_type": "execute_result"
    },
    {
     "data": {
      "image/png": "[encoded data removed]",
      "text/plain": [
       "<Figure size 432x288 with 1 Axes>"
      ]
     },
     "metadata": {
      "needs_background": "light"
     },
     "output_type": "display_data"
    }
   ],
   "source": [
    "##year end frequency is rule \"A\"\n",
    "df_msft.resample(rule='A').min()['Open'].plot()"
   ]
  },
  {
   "cell_type": "code",
   "execution_count": 77,
   "id": "f2cf6c89",
   "metadata": {},
   "outputs": [
    {
     "data": {
      "text/html": [
       "<div>\n",
       "<style scoped>\n",
       "    .dataframe tbody tr th:only-of-type {\n",
       "        vertical-align: middle;\n",
       "    }\n",
       "\n",
       "    .dataframe tbody tr th {\n",
       "        vertical-align: top;\n",
       "    }\n",
       "\n",
       "    .dataframe thead th {\n",
       "        text-align: right;\n",
       "    }\n",
       "</style>\n",
       "<table border=\"1\" class=\"dataframe\">\n",
       "  <thead>\n",
       "    <tr style=\"text-align: right;\">\n",
       "      <th></th>\n",
       "      <th>Open</th>\n",
       "      <th>High</th>\n",
       "      <th>Low</th>\n",
       "      <th>Close</th>\n",
       "      <th>Adj Close</th>\n",
       "      <th>Volume</th>\n",
       "    </tr>\n",
       "    <tr>\n",
       "      <th>Date</th>\n",
       "      <th></th>\n",
       "      <th></th>\n",
       "      <th></th>\n",
       "      <th></th>\n",
       "      <th></th>\n",
       "      <th></th>\n",
       "    </tr>\n",
       "  </thead>\n",
       "  <tbody>\n",
       "    <tr>\n",
       "      <th>2018-10-01</th>\n",
       "      <td>113.000000</td>\n",
       "      <td>113.419998</td>\n",
       "      <td>110.910004</td>\n",
       "      <td>112.089996</td>\n",
       "      <td>106.656380</td>\n",
       "      <td>111242100</td>\n",
       "    </tr>\n",
       "    <tr>\n",
       "      <th>2019-01-01</th>\n",
       "      <td>119.500000</td>\n",
       "      <td>120.820000</td>\n",
       "      <td>117.089996</td>\n",
       "      <td>120.220001</td>\n",
       "      <td>114.880814</td>\n",
       "      <td>55636400</td>\n",
       "    </tr>\n",
       "    <tr>\n",
       "      <th>2019-04-01</th>\n",
       "      <td>137.449997</td>\n",
       "      <td>138.399994</td>\n",
       "      <td>137.000000</td>\n",
       "      <td>137.779999</td>\n",
       "      <td>132.148331</td>\n",
       "      <td>38033900</td>\n",
       "    </tr>\n",
       "    <tr>\n",
       "      <th>2019-07-01</th>\n",
       "      <td>141.500000</td>\n",
       "      <td>142.369995</td>\n",
       "      <td>140.300003</td>\n",
       "      <td>141.339996</td>\n",
       "      <td>135.754379</td>\n",
       "      <td>48992400</td>\n",
       "    </tr>\n",
       "    <tr>\n",
       "      <th>2019-10-01</th>\n",
       "      <td>159.449997</td>\n",
       "      <td>159.550003</td>\n",
       "      <td>158.220001</td>\n",
       "      <td>158.960007</td>\n",
       "      <td>153.490829</td>\n",
       "      <td>53477500</td>\n",
       "    </tr>\n",
       "    <tr>\n",
       "      <th>2020-01-01</th>\n",
       "      <td>190.649994</td>\n",
       "      <td>190.699997</td>\n",
       "      <td>186.470001</td>\n",
       "      <td>188.699997</td>\n",
       "      <td>182.207550</td>\n",
       "      <td>97012700</td>\n",
       "    </tr>\n",
       "    <tr>\n",
       "      <th>2020-04-01</th>\n",
       "      <td>202.089996</td>\n",
       "      <td>204.399994</td>\n",
       "      <td>201.429993</td>\n",
       "      <td>203.509995</td>\n",
       "      <td>197.593521</td>\n",
       "      <td>67111700</td>\n",
       "    </tr>\n",
       "    <tr>\n",
       "      <th>2020-07-01</th>\n",
       "      <td>229.270004</td>\n",
       "      <td>232.860001</td>\n",
       "      <td>227.350006</td>\n",
       "      <td>231.649994</td>\n",
       "      <td>225.459122</td>\n",
       "      <td>78983000</td>\n",
       "    </tr>\n",
       "    <tr>\n",
       "      <th>2020-10-01</th>\n",
       "      <td>226.309998</td>\n",
       "      <td>228.119995</td>\n",
       "      <td>223.580002</td>\n",
       "      <td>224.960007</td>\n",
       "      <td>219.521164</td>\n",
       "      <td>63354900</td>\n",
       "    </tr>\n",
       "    <tr>\n",
       "      <th>2021-01-01</th>\n",
       "      <td>245.029999</td>\n",
       "      <td>246.130005</td>\n",
       "      <td>242.919998</td>\n",
       "      <td>244.990005</td>\n",
       "      <td>239.066849</td>\n",
       "      <td>69870600</td>\n",
       "    </tr>\n",
       "    <tr>\n",
       "      <th>2021-04-01</th>\n",
       "      <td>270.690002</td>\n",
       "      <td>271.649994</td>\n",
       "      <td>269.600006</td>\n",
       "      <td>271.399994</td>\n",
       "      <td>266.061249</td>\n",
       "      <td>46903100</td>\n",
       "    </tr>\n",
       "    <tr>\n",
       "      <th>2021-07-01</th>\n",
       "      <td>305.019989</td>\n",
       "      <td>305.839996</td>\n",
       "      <td>302.000000</td>\n",
       "      <td>305.220001</td>\n",
       "      <td>299.788788</td>\n",
       "      <td>43186200</td>\n",
       "    </tr>\n",
       "    <tr>\n",
       "      <th>2021-10-01</th>\n",
       "      <td>344.619995</td>\n",
       "      <td>349.670013</td>\n",
       "      <td>342.200012</td>\n",
       "      <td>343.109985</td>\n",
       "      <td>337.621094</td>\n",
       "      <td>52588700</td>\n",
       "    </tr>\n",
       "    <tr>\n",
       "      <th>2022-01-01</th>\n",
       "      <td>335.350006</td>\n",
       "      <td>338.000000</td>\n",
       "      <td>329.779999</td>\n",
       "      <td>334.750000</td>\n",
       "      <td>329.394867</td>\n",
       "      <td>90428900</td>\n",
       "    </tr>\n",
       "    <tr>\n",
       "      <th>2022-04-01</th>\n",
       "      <td>313.269989</td>\n",
       "      <td>315.109985</td>\n",
       "      <td>309.869995</td>\n",
       "      <td>314.970001</td>\n",
       "      <td>310.572113</td>\n",
       "      <td>63477700</td>\n",
       "    </tr>\n",
       "    <tr>\n",
       "      <th>2022-07-01</th>\n",
       "      <td>291.989990</td>\n",
       "      <td>294.179993</td>\n",
       "      <td>290.420013</td>\n",
       "      <td>293.470001</td>\n",
       "      <td>290.046326</td>\n",
       "      <td>45994000</td>\n",
       "    </tr>\n",
       "    <tr>\n",
       "      <th>2022-10-01</th>\n",
       "      <td>261.690002</td>\n",
       "      <td>263.920013</td>\n",
       "      <td>254.309998</td>\n",
       "      <td>257.220001</td>\n",
       "      <td>255.476791</td>\n",
       "      <td>86102000</td>\n",
       "    </tr>\n",
       "    <tr>\n",
       "      <th>2023-01-01</th>\n",
       "      <td>284.230011</td>\n",
       "      <td>289.269989</td>\n",
       "      <td>283.000000</td>\n",
       "      <td>288.299988</td>\n",
       "      <td>287.063354</td>\n",
       "      <td>69527400</td>\n",
       "    </tr>\n",
       "    <tr>\n",
       "      <th>2023-04-01</th>\n",
       "      <td>351.320007</td>\n",
       "      <td>351.470001</td>\n",
       "      <td>341.950012</td>\n",
       "      <td>348.100006</td>\n",
       "      <td>347.364563</td>\n",
       "      <td>64599200</td>\n",
       "    </tr>\n",
       "    <tr>\n",
       "      <th>2023-07-01</th>\n",
       "      <td>361.750000</td>\n",
       "      <td>366.779999</td>\n",
       "      <td>352.440002</td>\n",
       "      <td>359.489990</td>\n",
       "      <td>358.730469</td>\n",
       "      <td>69368900</td>\n",
       "    </tr>\n",
       "    <tr>\n",
       "      <th>2023-10-01</th>\n",
       "      <td>320.829987</td>\n",
       "      <td>329.190002</td>\n",
       "      <td>316.299988</td>\n",
       "      <td>327.260010</td>\n",
       "      <td>327.260010</td>\n",
       "      <td>25645500</td>\n",
       "    </tr>\n",
       "  </tbody>\n",
       "</table>\n",
       "</div>"
      ],
      "text/plain": [
       "                  Open        High         Low       Close   Adj Close  \\\n",
       "Date                                                                     \n",
       "2018-10-01  113.000000  113.419998  110.910004  112.089996  106.656380   \n",
       "2019-01-01  119.500000  120.820000  117.089996  120.220001  114.880814   \n",
       "2019-04-01  137.449997  138.399994  137.000000  137.779999  132.148331   \n",
       "2019-07-01  141.500000  142.369995  140.300003  141.339996  135.754379   \n",
       "2019-10-01  159.449997  159.550003  158.220001  158.960007  153.490829   \n",
       "2020-01-01  190.649994  190.699997  186.470001  188.699997  182.207550   \n",
       "2020-04-01  202.089996  204.399994  201.429993  203.509995  197.593521   \n",
       "2020-07-01  229.270004  232.860001  227.350006  231.649994  225.459122   \n",
       "2020-10-01  226.309998  228.119995  223.580002  224.960007  219.521164   \n",
       "2021-01-01  245.029999  246.130005  242.919998  244.990005  239.066849   \n",
       "2021-04-01  270.690002  271.649994  269.600006  271.399994  266.061249   \n",
       "2021-07-01  305.019989  305.839996  302.000000  305.220001  299.788788   \n",
       "2021-10-01  344.619995  349.670013  342.200012  343.109985  337.621094   \n",
       "2022-01-01  335.350006  338.000000  329.779999  334.750000  329.394867   \n",
       "2022-04-01  313.269989  315.109985  309.869995  314.970001  310.572113   \n",
       "2022-07-01  291.989990  294.179993  290.420013  293.470001  290.046326   \n",
       "2022-10-01  261.690002  263.920013  254.309998  257.220001  255.476791   \n",
       "2023-01-01  284.230011  289.269989  283.000000  288.299988  287.063354   \n",
       "2023-04-01  351.320007  351.470001  341.950012  348.100006  347.364563   \n",
       "2023-07-01  361.750000  366.779999  352.440002  359.489990  358.730469   \n",
       "2023-10-01  320.829987  329.190002  316.299988  327.260010  327.260010   \n",
       "\n",
       "               Volume  \n",
       "Date                   \n",
       "2018-10-01  111242100  \n",
       "2019-01-01   55636400  \n",
       "2019-04-01   38033900  \n",
       "2019-07-01   48992400  \n",
       "2019-10-01   53477500  \n",
       "2020-01-01   97012700  \n",
       "2020-04-01   67111700  \n",
       "2020-07-01   78983000  \n",
       "2020-10-01   63354900  \n",
       "2021-01-01   69870600  \n",
       "2021-04-01   46903100  \n",
       "2021-07-01   43186200  \n",
       "2021-10-01   52588700  \n",
       "2022-01-01   90428900  \n",
       "2022-04-01   63477700  \n",
       "2022-07-01   45994000  \n",
       "2022-10-01   86102000  \n",
       "2023-01-01   69527400  \n",
       "2023-04-01   64599200  \n",
       "2023-07-01   69368900  \n",
       "2023-10-01   25645500  "
      ]
     },
     "execution_count": 77,
     "metadata": {},
     "output_type": "execute_result"
    }
   ],
   "source": [
    "##quaterly start frequency\n",
    "##https://towardsdatascience.com/resample-fuction-of-pandas-79b17ec82a78\n",
    "df_msft.resample(rule='QS').max()"
   ]
  },
  {
   "cell_type": "code",
   "execution_count": 80,
   "id": "2a9886f3",
   "metadata": {},
   "outputs": [
    {
     "data": {
      "text/plain": [
       "<AxesSubplot:xlabel='Date'>"
      ]
     },
     "execution_count": 80,
     "metadata": {},
     "output_type": "execute_result"
    },
    {
     "data": {
      "image/png": "[encoded data removed]",
      "text/plain": [
       "<Figure size 432x288 with 1 Axes>"
      ]
     },
     "metadata": {
      "needs_background": "light"
     },
     "output_type": "display_data"
    }
   ],
   "source": [
    "df_msft.resample(rule='QS').min()['High'].plot()"
   ]
  },
  {
   "cell_type": "code",
   "execution_count": 81,
   "id": "3574ce62",
   "metadata": {},
   "outputs": [
    {
     "data": {
      "text/html": [
       "<div>\n",
       "<style scoped>\n",
       "    .dataframe tbody tr th:only-of-type {\n",
       "        vertical-align: middle;\n",
       "    }\n",
       "\n",
       "    .dataframe tbody tr th {\n",
       "        vertical-align: top;\n",
       "    }\n",
       "\n",
       "    .dataframe thead th {\n",
       "        text-align: right;\n",
       "    }\n",
       "</style>\n",
       "<table border=\"1\" class=\"dataframe\">\n",
       "  <thead>\n",
       "    <tr style=\"text-align: right;\">\n",
       "      <th></th>\n",
       "      <th>Open</th>\n",
       "      <th>High</th>\n",
       "      <th>Low</th>\n",
       "      <th>Close</th>\n",
       "      <th>Adj Close</th>\n",
       "      <th>Volume</th>\n",
       "    </tr>\n",
       "    <tr>\n",
       "      <th>Date</th>\n",
       "      <th></th>\n",
       "      <th></th>\n",
       "      <th></th>\n",
       "      <th></th>\n",
       "      <th></th>\n",
       "      <th></th>\n",
       "    </tr>\n",
       "  </thead>\n",
       "  <tbody>\n",
       "    <tr>\n",
       "      <th>2018-12-31</th>\n",
       "      <td>113.000000</td>\n",
       "      <td>113.419998</td>\n",
       "      <td>110.910004</td>\n",
       "      <td>112.089996</td>\n",
       "      <td>106.656380</td>\n",
       "      <td>111242100</td>\n",
       "    </tr>\n",
       "    <tr>\n",
       "      <th>2019-12-31</th>\n",
       "      <td>159.449997</td>\n",
       "      <td>159.550003</td>\n",
       "      <td>158.220001</td>\n",
       "      <td>158.960007</td>\n",
       "      <td>153.490829</td>\n",
       "      <td>55636400</td>\n",
       "    </tr>\n",
       "    <tr>\n",
       "      <th>2020-12-31</th>\n",
       "      <td>229.270004</td>\n",
       "      <td>232.860001</td>\n",
       "      <td>227.350006</td>\n",
       "      <td>231.649994</td>\n",
       "      <td>225.459122</td>\n",
       "      <td>97012700</td>\n",
       "    </tr>\n",
       "    <tr>\n",
       "      <th>2021-12-31</th>\n",
       "      <td>344.619995</td>\n",
       "      <td>349.670013</td>\n",
       "      <td>342.200012</td>\n",
       "      <td>343.109985</td>\n",
       "      <td>337.621094</td>\n",
       "      <td>69870600</td>\n",
       "    </tr>\n",
       "    <tr>\n",
       "      <th>2022-12-30</th>\n",
       "      <td>335.350006</td>\n",
       "      <td>338.000000</td>\n",
       "      <td>329.779999</td>\n",
       "      <td>334.750000</td>\n",
       "      <td>329.394867</td>\n",
       "      <td>90428900</td>\n",
       "    </tr>\n",
       "    <tr>\n",
       "      <th>2023-12-29</th>\n",
       "      <td>361.750000</td>\n",
       "      <td>366.779999</td>\n",
       "      <td>352.440002</td>\n",
       "      <td>359.489990</td>\n",
       "      <td>358.730469</td>\n",
       "      <td>69527400</td>\n",
       "    </tr>\n",
       "  </tbody>\n",
       "</table>\n",
       "</div>"
      ],
      "text/plain": [
       "                  Open        High         Low       Close   Adj Close  \\\n",
       "Date                                                                     \n",
       "2018-12-31  113.000000  113.419998  110.910004  112.089996  106.656380   \n",
       "2019-12-31  159.449997  159.550003  158.220001  158.960007  153.490829   \n",
       "2020-12-31  229.270004  232.860001  227.350006  231.649994  225.459122   \n",
       "2021-12-31  344.619995  349.670013  342.200012  343.109985  337.621094   \n",
       "2022-12-30  335.350006  338.000000  329.779999  334.750000  329.394867   \n",
       "2023-12-29  361.750000  366.779999  352.440002  359.489990  358.730469   \n",
       "\n",
       "               Volume  \n",
       "Date                   \n",
       "2018-12-31  111242100  \n",
       "2019-12-31   55636400  \n",
       "2020-12-31   97012700  \n",
       "2021-12-31   69870600  \n",
       "2022-12-30   90428900  \n",
       "2023-12-29   69527400  "
      ]
     },
     "execution_count": 81,
     "metadata": {},
     "output_type": "execute_result"
    }
   ],
   "source": [
    "df_msft.resample(rule='BA').max()"
   ]
  },
  {
   "cell_type": "code",
   "execution_count": 83,
   "id": "e8c314ce",
   "metadata": {},
   "outputs": [
    {
     "data": {
      "text/plain": [
       "<AxesSubplot:xlabel='Date'>"
      ]
     },
     "execution_count": 83,
     "metadata": {},
     "output_type": "execute_result"
    },
    {
     "data": {
      "image/png": "[encoded data removed]",
      "text/plain": [
       "<Figure size 432x288 with 1 Axes>"
      ]
     },
     "metadata": {
      "needs_background": "light"
     },
     "output_type": "display_data"
    }
   ],
   "source": [
    "df_msft.resample(rule='BQ').min()['Open'].plot()"
   ]
  },
  {
   "cell_type": "code",
   "execution_count": 84,
   "id": "9a18a851",
   "metadata": {},
   "outputs": [
    {
     "data": {
      "text/plain": [
       "<AxesSubplot:xlabel='Date'>"
      ]
     },
     "execution_count": 84,
     "metadata": {},
     "output_type": "execute_result"
    },
    {
     "data": {
      "image/png": "[encoded data removed]",
      "text/plain": [
       "<Figure size 432x288 with 1 Axes>"
      ]
     },
     "metadata": {
      "needs_background": "light"
     },
     "output_type": "display_data"
    }
   ],
   "source": [
    "##plotting\n",
    "df_msft.resample(rule='A').min()['Open'].plot(kind='bar')"
   ]
  },
  {
   "cell_type": "code",
   "execution_count": 86,
   "id": "c394433c",
   "metadata": {},
   "outputs": [
    {
     "data": {
      "text/plain": [
       "<AxesSubplot:xlabel='Date'>"
      ]
     },
     "execution_count": 86,
     "metadata": {},
     "output_type": "execute_result"
    },
    {
     "data": {
      "image/png": "[encoded data removed]",
      "text/plain": [
       "<Figure size 1080x432 with 1 Axes>"
      ]
     },
     "metadata": {
      "needs_background": "light"
     },
     "output_type": "display_data"
    }
   ],
   "source": [
    "df_msft['Open'].resample(rule='M').max().plot(kind='bar',figsize=(15,6))"
   ]
  },
  {
   "cell_type": "code",
   "execution_count": 88,
   "id": "11726f87",
   "metadata": {},
   "outputs": [
    {
     "data": {
      "text/plain": [
       "Date\n",
       "2018-11-02           NaN\n",
       "2018-11-05           NaN\n",
       "2018-11-06           NaN\n",
       "2018-11-07           NaN\n",
       "2018-11-08           NaN\n",
       "2018-11-09           NaN\n",
       "2018-11-12           NaN\n",
       "2018-11-13           NaN\n",
       "2018-11-14           NaN\n",
       "2018-11-15    109.455999\n",
       "2018-11-16    109.611999\n",
       "2018-11-19    109.693999\n",
       "2018-11-20    109.106999\n",
       "2018-11-21    108.325999\n",
       "2018-11-23    107.485999\n",
       "2018-11-26    107.003999\n",
       "2018-11-27    106.741000\n",
       "2018-11-28    107.000000\n",
       "2018-11-29    107.286000\n",
       "2018-11-30    107.603000\n",
       "Name: High, dtype: float64"
      ]
     },
     "execution_count": 88,
     "metadata": {},
     "output_type": "execute_result"
    }
   ],
   "source": [
    "df_msft['High'].rolling(10).mean().head(20)"
   ]
  },
  {
   "cell_type": "code",
   "execution_count": 90,
   "id": "fc9e5594",
   "metadata": {},
   "outputs": [],
   "source": [
    "df_msft['Open:30days rollong']=df_msft['Open'].rolling(30).mean()"
   ]
  },
  {
   "cell_type": "code",
   "execution_count": 91,
   "id": "78003232",
   "metadata": {},
   "outputs": [
    {
     "data": {
      "text/plain": [
       "Date\n",
       "2018-11-02           NaN\n",
       "2018-11-05           NaN\n",
       "2018-11-06           NaN\n",
       "2018-11-07           NaN\n",
       "2018-11-08           NaN\n",
       "2018-11-09           NaN\n",
       "2018-11-12           NaN\n",
       "2018-11-13           NaN\n",
       "2018-11-14           NaN\n",
       "2018-11-15           NaN\n",
       "2018-11-16           NaN\n",
       "2018-11-19           NaN\n",
       "2018-11-20           NaN\n",
       "2018-11-21           NaN\n",
       "2018-11-23           NaN\n",
       "2018-11-26           NaN\n",
       "2018-11-27           NaN\n",
       "2018-11-28           NaN\n",
       "2018-11-29           NaN\n",
       "2018-11-30           NaN\n",
       "2018-12-03           NaN\n",
       "2018-12-04           NaN\n",
       "2018-12-06           NaN\n",
       "2018-12-07           NaN\n",
       "2018-12-10           NaN\n",
       "2018-12-11           NaN\n",
       "2018-12-12           NaN\n",
       "2018-12-13           NaN\n",
       "2018-12-14           NaN\n",
       "2018-12-17    107.771667\n",
       "2018-12-18    107.680667\n",
       "Name: Open:30days rollong, dtype: float64"
      ]
     },
     "execution_count": 91,
     "metadata": {},
     "output_type": "execute_result"
    }
   ],
   "source": [
    "df_msft['Open:30days rollong'].head(31)"
   ]
  },
  {
   "cell_type": "code",
   "execution_count": 93,
   "id": "0546139c",
   "metadata": {},
   "outputs": [
    {
     "data": {
      "text/plain": [
       "<AxesSubplot:xlabel='Date'>"
      ]
     },
     "execution_count": 93,
     "metadata": {},
     "output_type": "execute_result"
    },
    {
     "data": {
      "image/png": "[encoded data removed]",
      "text/plain": [
       "<Figure size 864x360 with 1 Axes>"
      ]
     },
     "metadata": {
      "needs_background": "light"
     },
     "output_type": "display_data"
    }
   ],
   "source": [
    "df_msft[['Open','Open:30days rollong']].plot(figsize=(12,5))"
   ]
  },
  {
   "cell_type": "code",
   "execution_count": null,
   "id": "a7e9567e",
   "metadata": {},
   "outputs": [],
   "source": []
  }
 ],
 "metadata": {
  "kernelspec": {
   "display_name": "Python 3",
   "language": "python",
   "name": "python3"
  },
  "language_info": {
   "codemirror_mode": {
    "name": "ipython",
    "version": 3
   },
   "file_extension": ".py",
   "mimetype": "text/x-python",
   "name": "python",
   "nbconvert_exporter": "python",
   "pygments_lexer": "ipython3",
   "version": "3.8.8"
  }
 },
 "nbformat": 4,
 "nbformat_minor": 5
}
